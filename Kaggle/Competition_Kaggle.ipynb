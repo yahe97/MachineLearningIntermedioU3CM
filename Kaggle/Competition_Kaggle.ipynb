{
 "cells": [
  {
   "cell_type": "code",
   "execution_count": 1,
   "id": "089bf5ce",
   "metadata": {},
   "outputs": [],
   "source": [
    "import numpy  as np\n",
    "import pandas as pd"
   ]
  },
  {
   "cell_type": "markdown",
   "id": "bcab87f9",
   "metadata": {},
   "source": [
    "## Carga de datos"
   ]
  },
  {
   "cell_type": "code",
   "execution_count": 2,
   "id": "438f3428",
   "metadata": {},
   "outputs": [],
   "source": [
    "train = pd.read_csv('train_set.csv')"
   ]
  },
  {
   "cell_type": "markdown",
   "id": "eb6c9f15",
   "metadata": {},
   "source": [
    "## Descriptivo "
   ]
  },
  {
   "cell_type": "code",
   "execution_count": 3,
   "id": "4bebaa9a",
   "metadata": {},
   "outputs": [],
   "source": [
    "columns = train.columns"
   ]
  },
  {
   "cell_type": "code",
   "execution_count": 4,
   "id": "f55f5fe6",
   "metadata": {},
   "outputs": [],
   "source": [
    "train = pd.DataFrame(train)"
   ]
  },
  {
   "cell_type": "code",
   "execution_count": 5,
   "id": "87ac17f4",
   "metadata": {},
   "outputs": [
    {
     "data": {
      "text/plain": [
       "ID                               55200\n",
       "order_status                     52481\n",
       "order_products_value             52500\n",
       "order_freight_value              52508\n",
       "order_items_qty                  52436\n",
       "order_sellers_qty                52582\n",
       "order_purchase_timestamp         52566\n",
       "order_aproved_at                 52480\n",
       "order_estimated_delivery_date    52489\n",
       "order_delivered_customer_date    51198\n",
       "customer_city                    52555\n",
       "customer_state                   52552\n",
       "customer_zip_code_prefix         52440\n",
       "product_category_name_english    52601\n",
       "product_name_lenght              52508\n",
       "product_description_lenght       52493\n",
       "product_photos_qty               52477\n",
       "target                           55200\n",
       "dtype: int64"
      ]
     },
     "execution_count": 5,
     "metadata": {},
     "output_type": "execute_result"
    }
   ],
   "source": [
    "train.count()"
   ]
  },
  {
   "cell_type": "code",
   "execution_count": 6,
   "id": "24282ac0",
   "metadata": {},
   "outputs": [
    {
     "data": {
      "text/html": [
       "<div>\n",
       "<style scoped>\n",
       "    .dataframe tbody tr th:only-of-type {\n",
       "        vertical-align: middle;\n",
       "    }\n",
       "\n",
       "    .dataframe tbody tr th {\n",
       "        vertical-align: top;\n",
       "    }\n",
       "\n",
       "    .dataframe thead th {\n",
       "        text-align: right;\n",
       "    }\n",
       "</style>\n",
       "<table border=\"1\" class=\"dataframe\">\n",
       "  <thead>\n",
       "    <tr style=\"text-align: right;\">\n",
       "      <th>order_status</th>\n",
       "      <th>canceled</th>\n",
       "      <th>delivered</th>\n",
       "      <th>invoiced</th>\n",
       "      <th>processing</th>\n",
       "      <th>shipped</th>\n",
       "      <th>unavailable</th>\n",
       "    </tr>\n",
       "    <tr>\n",
       "      <th>target</th>\n",
       "      <th></th>\n",
       "      <th></th>\n",
       "      <th></th>\n",
       "      <th></th>\n",
       "      <th></th>\n",
       "      <th></th>\n",
       "    </tr>\n",
       "  </thead>\n",
       "  <tbody>\n",
       "    <tr>\n",
       "      <th>1</th>\n",
       "      <td>198.0</td>\n",
       "      <td>5359.0</td>\n",
       "      <td>121.0</td>\n",
       "      <td>178.0</td>\n",
       "      <td>390.0</td>\n",
       "      <td>5.0</td>\n",
       "    </tr>\n",
       "    <tr>\n",
       "      <th>2</th>\n",
       "      <td>15.0</td>\n",
       "      <td>1718.0</td>\n",
       "      <td>6.0</td>\n",
       "      <td>7.0</td>\n",
       "      <td>43.0</td>\n",
       "      <td>NaN</td>\n",
       "    </tr>\n",
       "    <tr>\n",
       "      <th>3</th>\n",
       "      <td>17.0</td>\n",
       "      <td>4454.0</td>\n",
       "      <td>17.0</td>\n",
       "      <td>9.0</td>\n",
       "      <td>73.0</td>\n",
       "      <td>NaN</td>\n",
       "    </tr>\n",
       "    <tr>\n",
       "      <th>4</th>\n",
       "      <td>7.0</td>\n",
       "      <td>10062.0</td>\n",
       "      <td>9.0</td>\n",
       "      <td>1.0</td>\n",
       "      <td>55.0</td>\n",
       "      <td>NaN</td>\n",
       "    </tr>\n",
       "    <tr>\n",
       "      <th>5</th>\n",
       "      <td>21.0</td>\n",
       "      <td>29616.0</td>\n",
       "      <td>16.0</td>\n",
       "      <td>7.0</td>\n",
       "      <td>76.0</td>\n",
       "      <td>NaN</td>\n",
       "    </tr>\n",
       "  </tbody>\n",
       "</table>\n",
       "</div>"
      ],
      "text/plain": [
       "order_status  canceled  delivered  invoiced  processing  shipped  unavailable\n",
       "target                                                                       \n",
       "1                198.0     5359.0     121.0       178.0    390.0          5.0\n",
       "2                 15.0     1718.0       6.0         7.0     43.0          NaN\n",
       "3                 17.0     4454.0      17.0         9.0     73.0          NaN\n",
       "4                  7.0    10062.0       9.0         1.0     55.0          NaN\n",
       "5                 21.0    29616.0      16.0         7.0     76.0          NaN"
      ]
     },
     "execution_count": 6,
     "metadata": {},
     "output_type": "execute_result"
    }
   ],
   "source": [
    "train.pivot_table('ID','target','order_status',aggfunc=np.count_nonzero)"
   ]
  },
  {
   "cell_type": "code",
   "execution_count": 77,
   "id": "43f50506",
   "metadata": {},
   "outputs": [
    {
     "data": {
      "text/html": [
       "<div>\n",
       "<style scoped>\n",
       "    .dataframe tbody tr th:only-of-type {\n",
       "        vertical-align: middle;\n",
       "    }\n",
       "\n",
       "    .dataframe tbody tr th {\n",
       "        vertical-align: top;\n",
       "    }\n",
       "\n",
       "    .dataframe thead th {\n",
       "        text-align: right;\n",
       "    }\n",
       "</style>\n",
       "<table border=\"1\" class=\"dataframe\">\n",
       "  <thead>\n",
       "    <tr style=\"text-align: right;\">\n",
       "      <th></th>\n",
       "      <th>ID</th>\n",
       "      <th>order_status</th>\n",
       "      <th>order_products_value</th>\n",
       "      <th>order_freight_value</th>\n",
       "      <th>order_items_qty</th>\n",
       "      <th>order_sellers_qty</th>\n",
       "      <th>order_purchase_timestamp</th>\n",
       "      <th>order_aproved_at</th>\n",
       "      <th>order_estimated_delivery_date</th>\n",
       "      <th>order_delivered_customer_date</th>\n",
       "      <th>customer_city</th>\n",
       "      <th>customer_state</th>\n",
       "      <th>customer_zip_code_prefix</th>\n",
       "      <th>product_category_name_english</th>\n",
       "      <th>product_name_lenght</th>\n",
       "      <th>product_description_lenght</th>\n",
       "      <th>product_photos_qty</th>\n",
       "    </tr>\n",
       "    <tr>\n",
       "      <th>target</th>\n",
       "      <th></th>\n",
       "      <th></th>\n",
       "      <th></th>\n",
       "      <th></th>\n",
       "      <th></th>\n",
       "      <th></th>\n",
       "      <th></th>\n",
       "      <th></th>\n",
       "      <th></th>\n",
       "      <th></th>\n",
       "      <th></th>\n",
       "      <th></th>\n",
       "      <th></th>\n",
       "      <th></th>\n",
       "      <th></th>\n",
       "      <th></th>\n",
       "      <th></th>\n",
       "    </tr>\n",
       "  </thead>\n",
       "  <tbody>\n",
       "    <tr>\n",
       "      <th>1</th>\n",
       "      <td>6584</td>\n",
       "      <td>6251</td>\n",
       "      <td>6276</td>\n",
       "      <td>6295</td>\n",
       "      <td>6261</td>\n",
       "      <td>6269</td>\n",
       "      <td>6268</td>\n",
       "      <td>6245</td>\n",
       "      <td>6283</td>\n",
       "      <td>5363</td>\n",
       "      <td>6318</td>\n",
       "      <td>6265</td>\n",
       "      <td>6244</td>\n",
       "      <td>6272</td>\n",
       "      <td>6279</td>\n",
       "      <td>6264</td>\n",
       "      <td>6279</td>\n",
       "    </tr>\n",
       "    <tr>\n",
       "      <th>2</th>\n",
       "      <td>1892</td>\n",
       "      <td>1789</td>\n",
       "      <td>1783</td>\n",
       "      <td>1802</td>\n",
       "      <td>1799</td>\n",
       "      <td>1808</td>\n",
       "      <td>1805</td>\n",
       "      <td>1793</td>\n",
       "      <td>1816</td>\n",
       "      <td>1720</td>\n",
       "      <td>1808</td>\n",
       "      <td>1799</td>\n",
       "      <td>1789</td>\n",
       "      <td>1811</td>\n",
       "      <td>1805</td>\n",
       "      <td>1806</td>\n",
       "      <td>1800</td>\n",
       "    </tr>\n",
       "    <tr>\n",
       "      <th>3</th>\n",
       "      <td>4802</td>\n",
       "      <td>4570</td>\n",
       "      <td>4581</td>\n",
       "      <td>4556</td>\n",
       "      <td>4562</td>\n",
       "      <td>4573</td>\n",
       "      <td>4567</td>\n",
       "      <td>4557</td>\n",
       "      <td>4573</td>\n",
       "      <td>4453</td>\n",
       "      <td>4596</td>\n",
       "      <td>4601</td>\n",
       "      <td>4546</td>\n",
       "      <td>4562</td>\n",
       "      <td>4572</td>\n",
       "      <td>4564</td>\n",
       "      <td>4549</td>\n",
       "    </tr>\n",
       "    <tr>\n",
       "      <th>4</th>\n",
       "      <td>10655</td>\n",
       "      <td>10134</td>\n",
       "      <td>10124</td>\n",
       "      <td>10153</td>\n",
       "      <td>10121</td>\n",
       "      <td>10145</td>\n",
       "      <td>10153</td>\n",
       "      <td>10135</td>\n",
       "      <td>10132</td>\n",
       "      <td>10046</td>\n",
       "      <td>10096</td>\n",
       "      <td>10143</td>\n",
       "      <td>10146</td>\n",
       "      <td>10151</td>\n",
       "      <td>10162</td>\n",
       "      <td>10153</td>\n",
       "      <td>10144</td>\n",
       "    </tr>\n",
       "    <tr>\n",
       "      <th>5</th>\n",
       "      <td>31267</td>\n",
       "      <td>29737</td>\n",
       "      <td>29736</td>\n",
       "      <td>29702</td>\n",
       "      <td>29693</td>\n",
       "      <td>29787</td>\n",
       "      <td>29773</td>\n",
       "      <td>29750</td>\n",
       "      <td>29685</td>\n",
       "      <td>29616</td>\n",
       "      <td>29737</td>\n",
       "      <td>29744</td>\n",
       "      <td>29715</td>\n",
       "      <td>29805</td>\n",
       "      <td>29690</td>\n",
       "      <td>29706</td>\n",
       "      <td>29705</td>\n",
       "    </tr>\n",
       "  </tbody>\n",
       "</table>\n",
       "</div>"
      ],
      "text/plain": [
       "           ID  order_status  order_products_value  order_freight_value  \\\n",
       "target                                                                   \n",
       "1        6584          6251                  6276                 6295   \n",
       "2        1892          1789                  1783                 1802   \n",
       "3        4802          4570                  4581                 4556   \n",
       "4       10655         10134                 10124                10153   \n",
       "5       31267         29737                 29736                29702   \n",
       "\n",
       "        order_items_qty  order_sellers_qty  order_purchase_timestamp  \\\n",
       "target                                                                 \n",
       "1                  6261               6269                      6268   \n",
       "2                  1799               1808                      1805   \n",
       "3                  4562               4573                      4567   \n",
       "4                 10121              10145                     10153   \n",
       "5                 29693              29787                     29773   \n",
       "\n",
       "        order_aproved_at  order_estimated_delivery_date  \\\n",
       "target                                                    \n",
       "1                   6245                           6283   \n",
       "2                   1793                           1816   \n",
       "3                   4557                           4573   \n",
       "4                  10135                          10132   \n",
       "5                  29750                          29685   \n",
       "\n",
       "        order_delivered_customer_date  customer_city  customer_state  \\\n",
       "target                                                                 \n",
       "1                                5363           6318            6265   \n",
       "2                                1720           1808            1799   \n",
       "3                                4453           4596            4601   \n",
       "4                               10046          10096           10143   \n",
       "5                               29616          29737           29744   \n",
       "\n",
       "        customer_zip_code_prefix  product_category_name_english  \\\n",
       "target                                                            \n",
       "1                           6244                           6272   \n",
       "2                           1789                           1811   \n",
       "3                           4546                           4562   \n",
       "4                          10146                          10151   \n",
       "5                          29715                          29805   \n",
       "\n",
       "        product_name_lenght  product_description_lenght  product_photos_qty  \n",
       "target                                                                       \n",
       "1                      6279                        6264                6279  \n",
       "2                      1805                        1806                1800  \n",
       "3                      4572                        4564                4549  \n",
       "4                     10162                       10153               10144  \n",
       "5                     29690                       29706               29705  "
      ]
     },
     "execution_count": 77,
     "metadata": {},
     "output_type": "execute_result"
    }
   ],
   "source": [
    "train.groupby('target').count()"
   ]
  },
  {
   "cell_type": "code",
   "execution_count": 7,
   "id": "ea6e4727",
   "metadata": {},
   "outputs": [],
   "source": [
    "train_nuevo = train.copy()"
   ]
  },
  {
   "cell_type": "code",
   "execution_count": 8,
   "id": "b61baf16",
   "metadata": {},
   "outputs": [],
   "source": [
    "train_nuevo['fecha_deliveried_estdelivery']  =  (pd.to_datetime(train['order_delivered_customer_date']) - pd.to_datetime(train['order_estimated_delivery_date'])).dt.days\n",
    "train_nuevo['fecha_deliveried_orderaproved']  =  (pd.to_datetime(train['order_delivered_customer_date']) - pd.to_datetime(train['order_aproved_at'])).dt.days\n",
    "train_nuevo['fecha_deliveried_purchased']  =  (pd.to_datetime(train['order_delivered_customer_date']) - pd.to_datetime(train['order_purchase_timestamp'])).dt.days"
   ]
  },
  {
   "cell_type": "code",
   "execution_count": 9,
   "id": "1c771bb5",
   "metadata": {},
   "outputs": [
    {
     "name": "stderr",
     "output_type": "stream",
     "text": [
      "C:\\Users\\yajai\\AppData\\Local\\Temp\\ipykernel_4376\\2403560180.py:1: FutureWarning: The default value of numeric_only in DataFrameGroupBy.mean is deprecated. In a future version, numeric_only will default to False. Either specify numeric_only or select only columns which should be valid for the function.\n",
      "  train_nuevo.groupby('target').mean()\n"
     ]
    },
    {
     "data": {
      "text/html": [
       "<div>\n",
       "<style scoped>\n",
       "    .dataframe tbody tr th:only-of-type {\n",
       "        vertical-align: middle;\n",
       "    }\n",
       "\n",
       "    .dataframe tbody tr th {\n",
       "        vertical-align: top;\n",
       "    }\n",
       "\n",
       "    .dataframe thead th {\n",
       "        text-align: right;\n",
       "    }\n",
       "</style>\n",
       "<table border=\"1\" class=\"dataframe\">\n",
       "  <thead>\n",
       "    <tr style=\"text-align: right;\">\n",
       "      <th></th>\n",
       "      <th>ID</th>\n",
       "      <th>order_products_value</th>\n",
       "      <th>order_freight_value</th>\n",
       "      <th>order_items_qty</th>\n",
       "      <th>order_sellers_qty</th>\n",
       "      <th>customer_zip_code_prefix</th>\n",
       "      <th>product_name_lenght</th>\n",
       "      <th>product_description_lenght</th>\n",
       "      <th>product_photos_qty</th>\n",
       "      <th>fecha_deliveried_estdelivery</th>\n",
       "      <th>fecha_deliveried_orderaproved</th>\n",
       "      <th>fecha_deliveried_purchased</th>\n",
       "    </tr>\n",
       "    <tr>\n",
       "      <th>target</th>\n",
       "      <th></th>\n",
       "      <th></th>\n",
       "      <th></th>\n",
       "      <th></th>\n",
       "      <th></th>\n",
       "      <th></th>\n",
       "      <th></th>\n",
       "      <th></th>\n",
       "      <th></th>\n",
       "      <th></th>\n",
       "      <th></th>\n",
       "      <th></th>\n",
       "    </tr>\n",
       "  </thead>\n",
       "  <tbody>\n",
       "    <tr>\n",
       "      <th>1</th>\n",
       "      <td>27264.714611</td>\n",
       "      <td>146.927819</td>\n",
       "      <td>25.362743</td>\n",
       "      <td>1.195975</td>\n",
       "      <td>1.368001</td>\n",
       "      <td>361.032671</td>\n",
       "      <td>48.989170</td>\n",
       "      <td>776.613665</td>\n",
       "      <td>2.193343</td>\n",
       "      <td>-5.275909</td>\n",
       "      <td>19.627235</td>\n",
       "      <td>20.118061</td>\n",
       "    </tr>\n",
       "    <tr>\n",
       "      <th>2</th>\n",
       "      <td>27615.680761</td>\n",
       "      <td>129.583797</td>\n",
       "      <td>23.963491</td>\n",
       "      <td>1.141745</td>\n",
       "      <td>1.385509</td>\n",
       "      <td>355.978759</td>\n",
       "      <td>49.037119</td>\n",
       "      <td>723.082503</td>\n",
       "      <td>2.157222</td>\n",
       "      <td>-9.333939</td>\n",
       "      <td>15.373538</td>\n",
       "      <td>15.852708</td>\n",
       "    </tr>\n",
       "    <tr>\n",
       "      <th>3</th>\n",
       "      <td>27535.063099</td>\n",
       "      <td>120.415355</td>\n",
       "      <td>22.628536</td>\n",
       "      <td>1.117054</td>\n",
       "      <td>1.179313</td>\n",
       "      <td>355.757369</td>\n",
       "      <td>48.887358</td>\n",
       "      <td>761.964724</td>\n",
       "      <td>2.282040</td>\n",
       "      <td>-11.188238</td>\n",
       "      <td>13.468226</td>\n",
       "      <td>13.969311</td>\n",
       "    </tr>\n",
       "    <tr>\n",
       "      <th>4</th>\n",
       "      <td>27569.071516</td>\n",
       "      <td>127.404472</td>\n",
       "      <td>21.580685</td>\n",
       "      <td>1.083984</td>\n",
       "      <td>1.095416</td>\n",
       "      <td>360.822787</td>\n",
       "      <td>49.086696</td>\n",
       "      <td>772.811780</td>\n",
       "      <td>2.304614</td>\n",
       "      <td>-12.789941</td>\n",
       "      <td>11.632581</td>\n",
       "      <td>12.102444</td>\n",
       "    </tr>\n",
       "    <tr>\n",
       "      <th>5</th>\n",
       "      <td>27689.283302</td>\n",
       "      <td>128.290388</td>\n",
       "      <td>20.914138</td>\n",
       "      <td>1.079446</td>\n",
       "      <td>1.085239</td>\n",
       "      <td>350.555107</td>\n",
       "      <td>48.696969</td>\n",
       "      <td>789.831011</td>\n",
       "      <td>2.296011</td>\n",
       "      <td>-13.669548</td>\n",
       "      <td>10.082556</td>\n",
       "      <td>10.516566</td>\n",
       "    </tr>\n",
       "  </tbody>\n",
       "</table>\n",
       "</div>"
      ],
      "text/plain": [
       "                  ID  order_products_value  order_freight_value  \\\n",
       "target                                                            \n",
       "1       27264.714611            146.927819            25.362743   \n",
       "2       27615.680761            129.583797            23.963491   \n",
       "3       27535.063099            120.415355            22.628536   \n",
       "4       27569.071516            127.404472            21.580685   \n",
       "5       27689.283302            128.290388            20.914138   \n",
       "\n",
       "        order_items_qty  order_sellers_qty  customer_zip_code_prefix  \\\n",
       "target                                                                 \n",
       "1              1.195975           1.368001                361.032671   \n",
       "2              1.141745           1.385509                355.978759   \n",
       "3              1.117054           1.179313                355.757369   \n",
       "4              1.083984           1.095416                360.822787   \n",
       "5              1.079446           1.085239                350.555107   \n",
       "\n",
       "        product_name_lenght  product_description_lenght  product_photos_qty  \\\n",
       "target                                                                        \n",
       "1                 48.989170                  776.613665            2.193343   \n",
       "2                 49.037119                  723.082503            2.157222   \n",
       "3                 48.887358                  761.964724            2.282040   \n",
       "4                 49.086696                  772.811780            2.304614   \n",
       "5                 48.696969                  789.831011            2.296011   \n",
       "\n",
       "        fecha_deliveried_estdelivery  fecha_deliveried_orderaproved  \\\n",
       "target                                                                \n",
       "1                          -5.275909                      19.627235   \n",
       "2                          -9.333939                      15.373538   \n",
       "3                         -11.188238                      13.468226   \n",
       "4                         -12.789941                      11.632581   \n",
       "5                         -13.669548                      10.082556   \n",
       "\n",
       "        fecha_deliveried_purchased  \n",
       "target                              \n",
       "1                        20.118061  \n",
       "2                        15.852708  \n",
       "3                        13.969311  \n",
       "4                        12.102444  \n",
       "5                        10.516566  "
      ]
     },
     "execution_count": 9,
     "metadata": {},
     "output_type": "execute_result"
    }
   ],
   "source": [
    "train_nuevo.groupby('target').mean()"
   ]
  },
  {
   "cell_type": "markdown",
   "id": "d5c654de",
   "metadata": {},
   "source": [
    "### Reemplazar nulos"
   ]
  },
  {
   "cell_type": "code",
   "execution_count": 10,
   "id": "a32e2f28",
   "metadata": {},
   "outputs": [
    {
     "name": "stderr",
     "output_type": "stream",
     "text": [
      "C:\\Users\\yajai\\AppData\\Local\\Temp\\ipykernel_4376\\3668642002.py:1: FutureWarning: The default value of numeric_only in DataFrameGroupBy.mean is deprecated. In a future version, numeric_only will default to False. Either specify numeric_only or select only columns which should be valid for the function.\n",
      "  summary_mean = train_nuevo.groupby('target').mean()\n"
     ]
    }
   ],
   "source": [
    "summary_mean = train_nuevo.groupby('target').mean()"
   ]
  },
  {
   "cell_type": "code",
   "execution_count": 11,
   "id": "d9f56d78",
   "metadata": {},
   "outputs": [],
   "source": [
    "Columns_mean = [ 'order_products_value', 'order_freight_value', 'order_items_qty',\n",
    "       'order_sellers_qty', 'customer_zip_code_prefix', 'product_name_lenght',\n",
    "       'product_description_lenght', 'product_photos_qty',\n",
    "       'fecha_deliveried_estdelivery', 'fecha_deliveried_orderaproved',\n",
    "       'fecha_deliveried_purchased']"
   ]
  },
  {
   "cell_type": "code",
   "execution_count": 12,
   "id": "92b38361",
   "metadata": {},
   "outputs": [
    {
     "name": "stdout",
     "output_type": "stream",
     "text": [
      "filling Nan:  order_products_value 1\n",
      "filling Nan:  order_products_value 2\n",
      "filling Nan:  order_products_value 3\n",
      "filling Nan:  order_products_value 4\n",
      "filling Nan:  order_products_value 5\n",
      "filling Nan:  order_freight_value 1\n",
      "filling Nan:  order_freight_value 2\n",
      "filling Nan:  order_freight_value 3\n",
      "filling Nan:  order_freight_value 4\n",
      "filling Nan:  order_freight_value 5\n",
      "filling Nan:  order_items_qty 1\n",
      "filling Nan:  order_items_qty 2\n",
      "filling Nan:  order_items_qty 3\n",
      "filling Nan:  order_items_qty 4\n",
      "filling Nan:  order_items_qty 5\n",
      "filling Nan:  order_sellers_qty 1\n",
      "filling Nan:  order_sellers_qty 2\n",
      "filling Nan:  order_sellers_qty 3\n",
      "filling Nan:  order_sellers_qty 4\n",
      "filling Nan:  order_sellers_qty 5\n",
      "filling Nan:  customer_zip_code_prefix 1\n",
      "filling Nan:  customer_zip_code_prefix 2\n",
      "filling Nan:  customer_zip_code_prefix 3\n",
      "filling Nan:  customer_zip_code_prefix 4\n",
      "filling Nan:  customer_zip_code_prefix 5\n",
      "filling Nan:  product_name_lenght 1\n",
      "filling Nan:  product_name_lenght 2\n",
      "filling Nan:  product_name_lenght 3\n",
      "filling Nan:  product_name_lenght 4\n",
      "filling Nan:  product_name_lenght 5\n",
      "filling Nan:  product_description_lenght 1\n",
      "filling Nan:  product_description_lenght 2\n",
      "filling Nan:  product_description_lenght 3\n",
      "filling Nan:  product_description_lenght 4\n",
      "filling Nan:  product_description_lenght 5\n",
      "filling Nan:  product_photos_qty 1\n",
      "filling Nan:  product_photos_qty 2\n",
      "filling Nan:  product_photos_qty 3\n",
      "filling Nan:  product_photos_qty 4\n",
      "filling Nan:  product_photos_qty 5\n",
      "filling Nan:  fecha_deliveried_estdelivery 1\n",
      "filling Nan:  fecha_deliveried_estdelivery 2\n",
      "filling Nan:  fecha_deliveried_estdelivery 3\n",
      "filling Nan:  fecha_deliveried_estdelivery 4\n",
      "filling Nan:  fecha_deliveried_estdelivery 5\n",
      "filling Nan:  fecha_deliveried_orderaproved 1\n",
      "filling Nan:  fecha_deliveried_orderaproved 2\n",
      "filling Nan:  fecha_deliveried_orderaproved 3\n",
      "filling Nan:  fecha_deliveried_orderaproved 4\n",
      "filling Nan:  fecha_deliveried_orderaproved 5\n",
      "filling Nan:  fecha_deliveried_purchased 1\n",
      "filling Nan:  fecha_deliveried_purchased 2\n",
      "filling Nan:  fecha_deliveried_purchased 3\n",
      "filling Nan:  fecha_deliveried_purchased 4\n",
      "filling Nan:  fecha_deliveried_purchased 5\n"
     ]
    },
    {
     "name": "stderr",
     "output_type": "stream",
     "text": [
      "C:\\Users\\yajai\\AppData\\Local\\Temp\\ipykernel_4376\\1614049272.py:3: SettingWithCopyWarning: \n",
      "A value is trying to be set on a copy of a slice from a DataFrame\n",
      "\n",
      "See the caveats in the documentation: https://pandas.pydata.org/pandas-docs/stable/user_guide/indexing.html#returning-a-view-versus-a-copy\n",
      "  train_nuevo[each_column][train_nuevo['target']==target] = train_nuevo[each_column][train_nuevo['target']==target].fillna(summary_mean[each_column][target])\n"
     ]
    }
   ],
   "source": [
    "for each_column in Columns_mean : \n",
    "    for target in range(1,6) : \n",
    "        train_nuevo[each_column][train_nuevo['target']==target] = train_nuevo[each_column][train_nuevo['target']==target].fillna(summary_mean[each_column][target])\n",
    "        print(\"filling Nan: \", each_column, target)"
   ]
  },
  {
   "cell_type": "code",
   "execution_count": 13,
   "id": "5e3d0e95",
   "metadata": {},
   "outputs": [
    {
     "data": {
      "text/html": [
       "<div>\n",
       "<style scoped>\n",
       "    .dataframe tbody tr th:only-of-type {\n",
       "        vertical-align: middle;\n",
       "    }\n",
       "\n",
       "    .dataframe tbody tr th {\n",
       "        vertical-align: top;\n",
       "    }\n",
       "\n",
       "    .dataframe thead th {\n",
       "        text-align: right;\n",
       "    }\n",
       "</style>\n",
       "<table border=\"1\" class=\"dataframe\">\n",
       "  <thead>\n",
       "    <tr style=\"text-align: right;\">\n",
       "      <th></th>\n",
       "      <th>order_products_value</th>\n",
       "    </tr>\n",
       "  </thead>\n",
       "  <tbody>\n",
       "  </tbody>\n",
       "</table>\n",
       "</div>"
      ],
      "text/plain": [
       "Empty DataFrame\n",
       "Columns: [order_products_value]\n",
       "Index: []"
      ]
     },
     "execution_count": 13,
     "metadata": {},
     "output_type": "execute_result"
    }
   ],
   "source": [
    "train_nuevo[['order_products_value']][train_nuevo['order_products_value'].isna()]"
   ]
  },
  {
   "cell_type": "code",
   "execution_count": 14,
   "id": "80f699b4",
   "metadata": {},
   "outputs": [
    {
     "data": {
      "text/plain": [
       "ID                                  0\n",
       "order_status                     2719\n",
       "order_products_value                0\n",
       "order_freight_value                 0\n",
       "order_items_qty                     0\n",
       "order_sellers_qty                   0\n",
       "order_purchase_timestamp         2634\n",
       "order_aproved_at                 2720\n",
       "order_estimated_delivery_date    2711\n",
       "order_delivered_customer_date    4002\n",
       "customer_city                    2645\n",
       "customer_state                   2648\n",
       "customer_zip_code_prefix            0\n",
       "product_category_name_english    2599\n",
       "product_name_lenght                 0\n",
       "product_description_lenght          0\n",
       "product_photos_qty                  0\n",
       "target                              0\n",
       "fecha_deliveried_estdelivery        0\n",
       "fecha_deliveried_orderaproved       0\n",
       "fecha_deliveried_purchased          0\n",
       "dtype: int64"
      ]
     },
     "execution_count": 14,
     "metadata": {},
     "output_type": "execute_result"
    }
   ],
   "source": [
    "train_nuevo.isna().sum()"
   ]
  },
  {
   "cell_type": "code",
   "execution_count": 189,
   "id": "988bf6b2",
   "metadata": {},
   "outputs": [],
   "source": [
    "columnas_modelo =['order_products_value','order_freight_value','order_items_qty','order_sellers_qty',\n",
    "                 'customer_zip_code_prefix','product_name_lenght',\n",
    "                 'product_description_lenght','product_photos_qty','fecha_deliveried_estdelivery',\n",
    "                 'fecha_deliveried_orderaproved','fecha_deliveried_purchased']"
   ]
  },
  {
   "cell_type": "code",
   "execution_count": 190,
   "id": "0d408605",
   "metadata": {},
   "outputs": [],
   "source": [
    "train_nuevo_vf = train_nuevo[columnas_modelo].copy()"
   ]
  },
  {
   "cell_type": "code",
   "execution_count": 192,
   "id": "1c5b1be0",
   "metadata": {},
   "outputs": [
    {
     "data": {
      "text/html": [
       "<div>\n",
       "<style scoped>\n",
       "    .dataframe tbody tr th:only-of-type {\n",
       "        vertical-align: middle;\n",
       "    }\n",
       "\n",
       "    .dataframe tbody tr th {\n",
       "        vertical-align: top;\n",
       "    }\n",
       "\n",
       "    .dataframe thead th {\n",
       "        text-align: right;\n",
       "    }\n",
       "</style>\n",
       "<table border=\"1\" class=\"dataframe\">\n",
       "  <thead>\n",
       "    <tr style=\"text-align: right;\">\n",
       "      <th></th>\n",
       "      <th>order_products_value</th>\n",
       "      <th>order_freight_value</th>\n",
       "      <th>order_items_qty</th>\n",
       "      <th>order_sellers_qty</th>\n",
       "      <th>customer_zip_code_prefix</th>\n",
       "      <th>product_name_lenght</th>\n",
       "      <th>product_description_lenght</th>\n",
       "      <th>product_photos_qty</th>\n",
       "      <th>fecha_deliveried_estdelivery</th>\n",
       "      <th>fecha_deliveried_orderaproved</th>\n",
       "      <th>fecha_deliveried_purchased</th>\n",
       "    </tr>\n",
       "  </thead>\n",
       "  <tbody>\n",
       "    <tr>\n",
       "      <th>0</th>\n",
       "      <td>39.90</td>\n",
       "      <td>15.38</td>\n",
       "      <td>1.000000</td>\n",
       "      <td>1.0</td>\n",
       "      <td>44.0</td>\n",
       "      <td>59.00000</td>\n",
       "      <td>434.0</td>\n",
       "      <td>3.0</td>\n",
       "      <td>-2.0</td>\n",
       "      <td>5.000000</td>\n",
       "      <td>5.0</td>\n",
       "    </tr>\n",
       "    <tr>\n",
       "      <th>1</th>\n",
       "      <td>279.99</td>\n",
       "      <td>31.82</td>\n",
       "      <td>1.117054</td>\n",
       "      <td>1.0</td>\n",
       "      <td>51.0</td>\n",
       "      <td>35.00000</td>\n",
       "      <td>1800.0</td>\n",
       "      <td>1.0</td>\n",
       "      <td>-6.0</td>\n",
       "      <td>8.000000</td>\n",
       "      <td>8.0</td>\n",
       "    </tr>\n",
       "    <tr>\n",
       "      <th>2</th>\n",
       "      <td>144.90</td>\n",
       "      <td>16.77</td>\n",
       "      <td>1.000000</td>\n",
       "      <td>1.0</td>\n",
       "      <td>842.0</td>\n",
       "      <td>63.00000</td>\n",
       "      <td>580.0</td>\n",
       "      <td>5.0</td>\n",
       "      <td>-12.0</td>\n",
       "      <td>9.000000</td>\n",
       "      <td>10.0</td>\n",
       "    </tr>\n",
       "    <tr>\n",
       "      <th>3</th>\n",
       "      <td>170.00</td>\n",
       "      <td>16.82</td>\n",
       "      <td>1.000000</td>\n",
       "      <td>1.0</td>\n",
       "      <td>135.0</td>\n",
       "      <td>35.00000</td>\n",
       "      <td>514.0</td>\n",
       "      <td>2.0</td>\n",
       "      <td>-12.0</td>\n",
       "      <td>9.000000</td>\n",
       "      <td>9.0</td>\n",
       "    </tr>\n",
       "    <tr>\n",
       "      <th>4</th>\n",
       "      <td>40.90</td>\n",
       "      <td>14.10</td>\n",
       "      <td>1.000000</td>\n",
       "      <td>1.0</td>\n",
       "      <td>40.0</td>\n",
       "      <td>31.00000</td>\n",
       "      <td>2392.0</td>\n",
       "      <td>2.0</td>\n",
       "      <td>-2.0</td>\n",
       "      <td>15.000000</td>\n",
       "      <td>15.0</td>\n",
       "    </tr>\n",
       "    <tr>\n",
       "      <th>...</th>\n",
       "      <td>...</td>\n",
       "      <td>...</td>\n",
       "      <td>...</td>\n",
       "      <td>...</td>\n",
       "      <td>...</td>\n",
       "      <td>...</td>\n",
       "      <td>...</td>\n",
       "      <td>...</td>\n",
       "      <td>...</td>\n",
       "      <td>...</td>\n",
       "      <td>...</td>\n",
       "    </tr>\n",
       "    <tr>\n",
       "      <th>55195</th>\n",
       "      <td>49.00</td>\n",
       "      <td>13.71</td>\n",
       "      <td>1.000000</td>\n",
       "      <td>1.0</td>\n",
       "      <td>48.0</td>\n",
       "      <td>54.00000</td>\n",
       "      <td>77.0</td>\n",
       "      <td>2.0</td>\n",
       "      <td>-10.0</td>\n",
       "      <td>10.000000</td>\n",
       "      <td>10.0</td>\n",
       "    </tr>\n",
       "    <tr>\n",
       "      <th>55196</th>\n",
       "      <td>62.80</td>\n",
       "      <td>34.24</td>\n",
       "      <td>1.079446</td>\n",
       "      <td>1.0</td>\n",
       "      <td>584.0</td>\n",
       "      <td>55.00000</td>\n",
       "      <td>1626.0</td>\n",
       "      <td>1.0</td>\n",
       "      <td>-7.0</td>\n",
       "      <td>21.000000</td>\n",
       "      <td>21.0</td>\n",
       "    </tr>\n",
       "    <tr>\n",
       "      <th>55197</th>\n",
       "      <td>24.90</td>\n",
       "      <td>7.43</td>\n",
       "      <td>1.000000</td>\n",
       "      <td>1.0</td>\n",
       "      <td>74.0</td>\n",
       "      <td>57.00000</td>\n",
       "      <td>74.0</td>\n",
       "      <td>1.0</td>\n",
       "      <td>-7.0</td>\n",
       "      <td>10.082556</td>\n",
       "      <td>2.0</td>\n",
       "    </tr>\n",
       "    <tr>\n",
       "      <th>55198</th>\n",
       "      <td>39.99</td>\n",
       "      <td>12.79</td>\n",
       "      <td>1.000000</td>\n",
       "      <td>1.0</td>\n",
       "      <td>190.0</td>\n",
       "      <td>48.98917</td>\n",
       "      <td>216.0</td>\n",
       "      <td>1.0</td>\n",
       "      <td>-16.0</td>\n",
       "      <td>5.000000</td>\n",
       "      <td>9.0</td>\n",
       "    </tr>\n",
       "    <tr>\n",
       "      <th>55199</th>\n",
       "      <td>189.00</td>\n",
       "      <td>28.68</td>\n",
       "      <td>1.000000</td>\n",
       "      <td>1.0</td>\n",
       "      <td>326.0</td>\n",
       "      <td>51.00000</td>\n",
       "      <td>1954.0</td>\n",
       "      <td>3.0</td>\n",
       "      <td>-8.0</td>\n",
       "      <td>24.000000</td>\n",
       "      <td>24.0</td>\n",
       "    </tr>\n",
       "  </tbody>\n",
       "</table>\n",
       "<p>55200 rows × 11 columns</p>\n",
       "</div>"
      ],
      "text/plain": [
       "       order_products_value  order_freight_value  order_items_qty  \\\n",
       "0                     39.90                15.38         1.000000   \n",
       "1                    279.99                31.82         1.117054   \n",
       "2                    144.90                16.77         1.000000   \n",
       "3                    170.00                16.82         1.000000   \n",
       "4                     40.90                14.10         1.000000   \n",
       "...                     ...                  ...              ...   \n",
       "55195                 49.00                13.71         1.000000   \n",
       "55196                 62.80                34.24         1.079446   \n",
       "55197                 24.90                 7.43         1.000000   \n",
       "55198                 39.99                12.79         1.000000   \n",
       "55199                189.00                28.68         1.000000   \n",
       "\n",
       "       order_sellers_qty  customer_zip_code_prefix  product_name_lenght  \\\n",
       "0                    1.0                      44.0             59.00000   \n",
       "1                    1.0                      51.0             35.00000   \n",
       "2                    1.0                     842.0             63.00000   \n",
       "3                    1.0                     135.0             35.00000   \n",
       "4                    1.0                      40.0             31.00000   \n",
       "...                  ...                       ...                  ...   \n",
       "55195                1.0                      48.0             54.00000   \n",
       "55196                1.0                     584.0             55.00000   \n",
       "55197                1.0                      74.0             57.00000   \n",
       "55198                1.0                     190.0             48.98917   \n",
       "55199                1.0                     326.0             51.00000   \n",
       "\n",
       "       product_description_lenght  product_photos_qty  \\\n",
       "0                           434.0                 3.0   \n",
       "1                          1800.0                 1.0   \n",
       "2                           580.0                 5.0   \n",
       "3                           514.0                 2.0   \n",
       "4                          2392.0                 2.0   \n",
       "...                           ...                 ...   \n",
       "55195                        77.0                 2.0   \n",
       "55196                      1626.0                 1.0   \n",
       "55197                        74.0                 1.0   \n",
       "55198                       216.0                 1.0   \n",
       "55199                      1954.0                 3.0   \n",
       "\n",
       "       fecha_deliveried_estdelivery  fecha_deliveried_orderaproved  \\\n",
       "0                              -2.0                       5.000000   \n",
       "1                              -6.0                       8.000000   \n",
       "2                             -12.0                       9.000000   \n",
       "3                             -12.0                       9.000000   \n",
       "4                              -2.0                      15.000000   \n",
       "...                             ...                            ...   \n",
       "55195                         -10.0                      10.000000   \n",
       "55196                          -7.0                      21.000000   \n",
       "55197                          -7.0                      10.082556   \n",
       "55198                         -16.0                       5.000000   \n",
       "55199                          -8.0                      24.000000   \n",
       "\n",
       "       fecha_deliveried_purchased  \n",
       "0                             5.0  \n",
       "1                             8.0  \n",
       "2                            10.0  \n",
       "3                             9.0  \n",
       "4                            15.0  \n",
       "...                           ...  \n",
       "55195                        10.0  \n",
       "55196                        21.0  \n",
       "55197                         2.0  \n",
       "55198                         9.0  \n",
       "55199                        24.0  \n",
       "\n",
       "[55200 rows x 11 columns]"
      ]
     },
     "execution_count": 192,
     "metadata": {},
     "output_type": "execute_result"
    }
   ],
   "source": [
    "train_nuevo_vf"
   ]
  },
  {
   "cell_type": "markdown",
   "id": "441b4c19",
   "metadata": {},
   "source": [
    "## Scaling"
   ]
  },
  {
   "cell_type": "code",
   "execution_count": 193,
   "id": "cbc25e45",
   "metadata": {},
   "outputs": [],
   "source": [
    "from sklearn.preprocessing import StandardScaler"
   ]
  },
  {
   "cell_type": "code",
   "execution_count": 194,
   "id": "db759cbc",
   "metadata": {},
   "outputs": [],
   "source": [
    "sc = StandardScaler()\n",
    "train_sc= sc.fit_transform(train_nuevo_vf)"
   ]
  },
  {
   "cell_type": "code",
   "execution_count": 195,
   "id": "d3ec907f",
   "metadata": {},
   "outputs": [],
   "source": [
    "train_scale = pd.DataFrame(train_sc, columns=train_nuevo_vf.columns)"
   ]
  },
  {
   "cell_type": "code",
   "execution_count": 196,
   "id": "e60c19d5",
   "metadata": {},
   "outputs": [],
   "source": [
    "## añadiendo el target\n",
    "train_scale['target'] = train_nuevo['target'].values"
   ]
  },
  {
   "cell_type": "markdown",
   "id": "8192435b",
   "metadata": {},
   "source": [
    "## Modelando"
   ]
  },
  {
   "cell_type": "code",
   "execution_count": 198,
   "id": "bd511511",
   "metadata": {},
   "outputs": [],
   "source": [
    "from sklearn.linear_model import LinearRegression\n",
    "from sklearn.ensemble import RandomForestClassifier\n",
    "from sklearn.ensemble import HistGradientBoostingClassifier\n",
    "from sklearn.pipeline import Pipeline\n",
    "from sklearn.linear_model import LinearRegression\n",
    "from sklearn.model_selection import GridSearchCV"
   ]
  },
  {
   "cell_type": "code",
   "execution_count": 199,
   "id": "38e2e264",
   "metadata": {},
   "outputs": [],
   "source": [
    "target = train_scale['target'].values\n",
    "Base = train_scale[train_nuevo_vf.columns].values"
   ]
  },
  {
   "cell_type": "code",
   "execution_count": 201,
   "id": "0e06dce7",
   "metadata": {},
   "outputs": [],
   "source": [
    "from sklearn.model_selection import train_test_split"
   ]
  },
  {
   "cell_type": "code",
   "execution_count": 202,
   "id": "eb59e2d2",
   "metadata": {},
   "outputs": [],
   "source": [
    "X_Base, X_test, y_Base, y_test = train_test_split(Base,target, test_size=0.33, random_state=42)"
   ]
  },
  {
   "cell_type": "markdown",
   "id": "4dad5157",
   "metadata": {},
   "source": [
    "### Regresion ridge "
   ]
  },
  {
   "cell_type": "code",
   "execution_count": 204,
   "id": "8da8d136",
   "metadata": {},
   "outputs": [
    {
     "name": "stdout",
     "output_type": "stream",
     "text": [
      "Mejores parámetros:  {'regression__alpha': 1000.0}\n",
      "Mejor puntaje:  0.16416060162967636\n"
     ]
    }
   ],
   "source": [
    "from sklearn.linear_model import Ridge\n",
    "from sklearn.preprocessing import MinMaxScaler\n",
    "from sklearn.impute import SimpleImputer\n",
    "\n",
    "lower_bound = 1\n",
    "upper_bound = 5\n",
    "\n",
    "pipeline = Pipeline([\n",
    "     ('imputer', SimpleImputer(strategy='mean')),\n",
    "    ('regression', Ridge())\n",
    "])\n",
    "\n",
    "param_grid = {\n",
    "    'regression__alpha': [0.1, 1.0, 10.0,10e2,10e5]\n",
    "}\n",
    "\n",
    "grid_search = GridSearchCV(pipeline, param_grid, cv=5)\n",
    "\n",
    "grid_search.fit(X_Base, y_Base)\n",
    "print(\"Mejores parámetros: \", grid_search.best_params_)\n",
    "print(\"Mejor puntaje: \", grid_search.best_score_)"
   ]
  },
  {
   "cell_type": "code",
   "execution_count": 206,
   "id": "4ad04fb9",
   "metadata": {},
   "outputs": [
    {
     "name": "stdout",
     "output_type": "stream",
     "text": [
      "Score with the test data R^2=0.1600\n"
     ]
    },
    {
     "data": {
      "image/png": "[encoded data removed]",
      "text/plain": [
       "<Figure size 640x480 with 1 Axes>"
      ]
     },
     "metadata": {},
     "output_type": "display_data"
    }
   ],
   "source": [
    "from sklearn.metrics import confusion_matrix\n",
    "from sklearn import metrics\n",
    "import seaborn as sns; sns.set()\n",
    "import matplotlib.pyplot as  plt \n",
    "\n",
    "print(\"Score with the test data R^2={0:.4f}\".format(grid_search.score(X_test, y_test)))\n",
    "y_pred_test_pipeline = grid_search.predict(X_test)\n",
    "predicted_y = np.clip(y_pred_test_pipeline, lower_bound, upper_bound)\n",
    "mat_conf = metrics.confusion_matrix(np.around(predicted_y), y_test) # código que calcula la matriz de confusión para el conjunto de test\n",
    "\n",
    "sns.heatmap(mat_conf.T, square=True, annot=True, fmt='d', cbar=False,\n",
    "            xticklabels=summary_mean.index,\n",
    "            yticklabels=summary_mean.index)\n",
    "plt.xlabel('clase predicha')\n",
    "plt.ylabel('clase real');"
   ]
  },
  {
   "cell_type": "code",
   "execution_count": 207,
   "id": "3aa39f34",
   "metadata": {},
   "outputs": [],
   "source": [
    "import pickle\n",
    "\n",
    "# save the iris classification model as a pickle file\n",
    "model_pkl_file = \"./Modelos/sca_ridge.pkl\"  \n",
    "\n",
    "with open(model_pkl_file, 'wb') as file:  \n",
    "    pickle.dump(grid_search, file)\n",
    "\n",
    "with open(model_pkl_file, 'rb') as file:  \n",
    "    model_sca_ridge = pickle.load(file)"
   ]
  },
  {
   "cell_type": "code",
   "execution_count": null,
   "id": "da273c7f",
   "metadata": {},
   "outputs": [],
   "source": []
  },
  {
   "cell_type": "markdown",
   "id": "6948d31c",
   "metadata": {},
   "source": [
    "## Testing"
   ]
  },
  {
   "cell_type": "code",
   "execution_count": 208,
   "id": "e31b55f8",
   "metadata": {},
   "outputs": [
    {
     "data": {
      "text/html": [
       "<div>\n",
       "<style scoped>\n",
       "    .dataframe tbody tr th:only-of-type {\n",
       "        vertical-align: middle;\n",
       "    }\n",
       "\n",
       "    .dataframe tbody tr th {\n",
       "        vertical-align: top;\n",
       "    }\n",
       "\n",
       "    .dataframe thead th {\n",
       "        text-align: right;\n",
       "    }\n",
       "</style>\n",
       "<table border=\"1\" class=\"dataframe\">\n",
       "  <thead>\n",
       "    <tr style=\"text-align: right;\">\n",
       "      <th></th>\n",
       "      <th>ID</th>\n",
       "      <th>order_status</th>\n",
       "      <th>order_products_value</th>\n",
       "      <th>order_freight_value</th>\n",
       "      <th>order_items_qty</th>\n",
       "      <th>order_sellers_qty</th>\n",
       "      <th>order_purchase_timestamp</th>\n",
       "      <th>order_aproved_at</th>\n",
       "      <th>order_estimated_delivery_date</th>\n",
       "      <th>order_delivered_customer_date</th>\n",
       "      <th>customer_city</th>\n",
       "      <th>customer_state</th>\n",
       "      <th>customer_zip_code_prefix</th>\n",
       "      <th>product_category_name_english</th>\n",
       "      <th>product_name_lenght</th>\n",
       "      <th>product_description_lenght</th>\n",
       "      <th>product_photos_qty</th>\n",
       "    </tr>\n",
       "  </thead>\n",
       "  <tbody>\n",
       "    <tr>\n",
       "      <th>0</th>\n",
       "      <td>0</td>\n",
       "      <td>delivered</td>\n",
       "      <td>30.00</td>\n",
       "      <td>28.20</td>\n",
       "      <td>2.0</td>\n",
       "      <td>1.0</td>\n",
       "      <td>2017-06-22 20:28:16.000000</td>\n",
       "      <td>2017-06-22 20:42:51.013492</td>\n",
       "      <td>2017-07-14 00:00:00.000000</td>\n",
       "      <td>2017-09-19 15:17:37.767855</td>\n",
       "      <td>NaN</td>\n",
       "      <td>SP</td>\n",
       "      <td>48.0</td>\n",
       "      <td>health_beauty</td>\n",
       "      <td>17.0</td>\n",
       "      <td>547.0</td>\n",
       "      <td>1.0</td>\n",
       "    </tr>\n",
       "    <tr>\n",
       "      <th>1</th>\n",
       "      <td>1</td>\n",
       "      <td>delivered</td>\n",
       "      <td>89.90</td>\n",
       "      <td>12.33</td>\n",
       "      <td>1.0</td>\n",
       "      <td>1.0</td>\n",
       "      <td>NaN</td>\n",
       "      <td>2017-11-20 23:34:44.641435</td>\n",
       "      <td>2017-12-01 00:00:00.000000</td>\n",
       "      <td>2017-11-23 14:41:51.640086</td>\n",
       "      <td>Caieiras</td>\n",
       "      <td>SP</td>\n",
       "      <td>NaN</td>\n",
       "      <td>bed_bath_table</td>\n",
       "      <td>58.0</td>\n",
       "      <td>188.0</td>\n",
       "      <td>1.0</td>\n",
       "    </tr>\n",
       "    <tr>\n",
       "      <th>2</th>\n",
       "      <td>2</td>\n",
       "      <td>delivered</td>\n",
       "      <td>890.00</td>\n",
       "      <td>86.71</td>\n",
       "      <td>1.0</td>\n",
       "      <td>1.0</td>\n",
       "      <td>2018-02-12 12:31:32.000000</td>\n",
       "      <td>2018-02-15 03:55:50.384756</td>\n",
       "      <td>2018-03-09 00:00:00.000000</td>\n",
       "      <td>2018-02-27 15:19:06.698500</td>\n",
       "      <td>Sao Caetano do Sul</td>\n",
       "      <td>SP</td>\n",
       "      <td>95.0</td>\n",
       "      <td>health_beauty</td>\n",
       "      <td>57.0</td>\n",
       "      <td>537.0</td>\n",
       "      <td>1.0</td>\n",
       "    </tr>\n",
       "    <tr>\n",
       "      <th>3</th>\n",
       "      <td>3</td>\n",
       "      <td>delivered</td>\n",
       "      <td>85.00</td>\n",
       "      <td>17.84</td>\n",
       "      <td>1.0</td>\n",
       "      <td>NaN</td>\n",
       "      <td>2017-07-24 05:21:16.000000</td>\n",
       "      <td>NaN</td>\n",
       "      <td>2017-08-15 00:00:00.000000</td>\n",
       "      <td>2017-07-31 19:42:27.819239</td>\n",
       "      <td>Curitiba</td>\n",
       "      <td>PR</td>\n",
       "      <td>813.0</td>\n",
       "      <td>stationery</td>\n",
       "      <td>56.0</td>\n",
       "      <td>303.0</td>\n",
       "      <td>3.0</td>\n",
       "    </tr>\n",
       "    <tr>\n",
       "      <th>4</th>\n",
       "      <td>4</td>\n",
       "      <td>delivered</td>\n",
       "      <td>168.98</td>\n",
       "      <td>25.31</td>\n",
       "      <td>1.0</td>\n",
       "      <td>1.0</td>\n",
       "      <td>2018-03-29 22:20:33.000000</td>\n",
       "      <td>2018-03-29 22:30:18.256631</td>\n",
       "      <td>NaN</td>\n",
       "      <td>2018-05-15 15:05:44.342452</td>\n",
       "      <td>Aracaju</td>\n",
       "      <td>SE</td>\n",
       "      <td>490.0</td>\n",
       "      <td>bed_bath_table</td>\n",
       "      <td>60.0</td>\n",
       "      <td>496.0</td>\n",
       "      <td>2.0</td>\n",
       "    </tr>\n",
       "  </tbody>\n",
       "</table>\n",
       "</div>"
      ],
      "text/plain": [
       "   ID order_status  order_products_value  order_freight_value  \\\n",
       "0   0    delivered                 30.00                28.20   \n",
       "1   1    delivered                 89.90                12.33   \n",
       "2   2    delivered                890.00                86.71   \n",
       "3   3    delivered                 85.00                17.84   \n",
       "4   4    delivered                168.98                25.31   \n",
       "\n",
       "   order_items_qty  order_sellers_qty    order_purchase_timestamp  \\\n",
       "0              2.0                1.0  2017-06-22 20:28:16.000000   \n",
       "1              1.0                1.0                         NaN   \n",
       "2              1.0                1.0  2018-02-12 12:31:32.000000   \n",
       "3              1.0                NaN  2017-07-24 05:21:16.000000   \n",
       "4              1.0                1.0  2018-03-29 22:20:33.000000   \n",
       "\n",
       "             order_aproved_at order_estimated_delivery_date  \\\n",
       "0  2017-06-22 20:42:51.013492    2017-07-14 00:00:00.000000   \n",
       "1  2017-11-20 23:34:44.641435    2017-12-01 00:00:00.000000   \n",
       "2  2018-02-15 03:55:50.384756    2018-03-09 00:00:00.000000   \n",
       "3                         NaN    2017-08-15 00:00:00.000000   \n",
       "4  2018-03-29 22:30:18.256631                           NaN   \n",
       "\n",
       "  order_delivered_customer_date       customer_city customer_state  \\\n",
       "0    2017-09-19 15:17:37.767855                 NaN             SP   \n",
       "1    2017-11-23 14:41:51.640086            Caieiras             SP   \n",
       "2    2018-02-27 15:19:06.698500  Sao Caetano do Sul             SP   \n",
       "3    2017-07-31 19:42:27.819239            Curitiba             PR   \n",
       "4    2018-05-15 15:05:44.342452             Aracaju             SE   \n",
       "\n",
       "   customer_zip_code_prefix product_category_name_english  \\\n",
       "0                      48.0                 health_beauty   \n",
       "1                       NaN                bed_bath_table   \n",
       "2                      95.0                 health_beauty   \n",
       "3                     813.0                    stationery   \n",
       "4                     490.0                bed_bath_table   \n",
       "\n",
       "   product_name_lenght  product_description_lenght  product_photos_qty  \n",
       "0                 17.0                       547.0                 1.0  \n",
       "1                 58.0                       188.0                 1.0  \n",
       "2                 57.0                       537.0                 1.0  \n",
       "3                 56.0                       303.0                 3.0  \n",
       "4                 60.0                       496.0                 2.0  "
      ]
     },
     "execution_count": 208,
     "metadata": {},
     "output_type": "execute_result"
    }
   ],
   "source": [
    "test = pd.read_csv('test_set.csv')\n",
    "test.head()"
   ]
  },
  {
   "cell_type": "code",
   "execution_count": 209,
   "id": "ccef404a",
   "metadata": {},
   "outputs": [],
   "source": [
    "test['fecha_deliveried_estdelivery']  =  (pd.to_datetime(test['order_delivered_customer_date']) - pd.to_datetime(test['order_estimated_delivery_date'])).dt.days\n",
    "test['fecha_deliveried_orderaproved']  =  (pd.to_datetime(test['order_delivered_customer_date']) - pd.to_datetime(test['order_aproved_at'])).dt.days\n",
    "test['fecha_deliveried_purchased']  =  (pd.to_datetime(test['order_delivered_customer_date']) - pd.to_datetime(test['order_purchase_timestamp'])).dt.days"
   ]
  },
  {
   "cell_type": "code",
   "execution_count": 218,
   "id": "0dae3358",
   "metadata": {},
   "outputs": [],
   "source": [
    "columnas_modelo =['order_products_value','order_freight_value','order_items_qty','order_sellers_qty',\n",
    "                 'customer_zip_code_prefix','product_name_lenght',\n",
    "                 'product_description_lenght','product_photos_qty','fecha_deliveried_estdelivery',\n",
    "                 'fecha_deliveried_orderaproved','fecha_deliveried_purchased']"
   ]
  },
  {
   "cell_type": "code",
   "execution_count": 219,
   "id": "aced9bcd",
   "metadata": {},
   "outputs": [],
   "source": [
    "test_nuevo = test[columnas_modelo].copy()\n",
    "sc = StandardScaler()\n",
    "tes_sc = sc.fit_transform(test_nuevo)\n",
    "test_scale = pd.DataFrame(tes_sc, columns=test_nuevo.columns)"
   ]
  },
  {
   "cell_type": "code",
   "execution_count": 221,
   "id": "366d6564",
   "metadata": {},
   "outputs": [
    {
     "name": "stderr",
     "output_type": "stream",
     "text": [
      "C:\\Users\\yajai\\Anaconda3\\lib\\site-packages\\sklearn\\base.py:432: UserWarning: X has feature names, but SimpleImputer was fitted without feature names\n",
      "  warnings.warn(\n"
     ]
    }
   ],
   "source": [
    "predict = model_sca_ridge.predict(test_scale)\n",
    "predicted_test = np.clip(predict, lower_bound, upper_bound)"
   ]
  },
  {
   "cell_type": "code",
   "execution_count": 229,
   "id": "afe9499f",
   "metadata": {},
   "outputs": [],
   "source": [
    "y_predict= np.array(np.around(predicted_test)).transpose()\n",
    "y_predict = pd.DataFrame(y_predict,columns=['target'])\n",
    "base_final =y_predict.join(test['ID'])[['ID','target']]"
   ]
  },
  {
   "cell_type": "code",
   "execution_count": 231,
   "id": "5822a21a",
   "metadata": {},
   "outputs": [
    {
     "data": {
      "text/html": [
       "<div>\n",
       "<style scoped>\n",
       "    .dataframe tbody tr th:only-of-type {\n",
       "        vertical-align: middle;\n",
       "    }\n",
       "\n",
       "    .dataframe tbody tr th {\n",
       "        vertical-align: top;\n",
       "    }\n",
       "\n",
       "    .dataframe thead th {\n",
       "        text-align: right;\n",
       "    }\n",
       "</style>\n",
       "<table border=\"1\" class=\"dataframe\">\n",
       "  <thead>\n",
       "    <tr style=\"text-align: right;\">\n",
       "      <th></th>\n",
       "      <th>ID</th>\n",
       "    </tr>\n",
       "    <tr>\n",
       "      <th>target</th>\n",
       "      <th></th>\n",
       "    </tr>\n",
       "  </thead>\n",
       "  <tbody>\n",
       "    <tr>\n",
       "      <th>1.0</th>\n",
       "      <td>58</td>\n",
       "    </tr>\n",
       "    <tr>\n",
       "      <th>2.0</th>\n",
       "      <td>175</td>\n",
       "    </tr>\n",
       "    <tr>\n",
       "      <th>3.0</th>\n",
       "      <td>1223</td>\n",
       "    </tr>\n",
       "    <tr>\n",
       "      <th>4.0</th>\n",
       "      <td>11151</td>\n",
       "    </tr>\n",
       "    <tr>\n",
       "      <th>5.0</th>\n",
       "      <td>1193</td>\n",
       "    </tr>\n",
       "  </tbody>\n",
       "</table>\n",
       "</div>"
      ],
      "text/plain": [
       "           ID\n",
       "target       \n",
       "1.0        58\n",
       "2.0       175\n",
       "3.0      1223\n",
       "4.0     11151\n",
       "5.0      1193"
      ]
     },
     "execution_count": 231,
     "metadata": {},
     "output_type": "execute_result"
    }
   ],
   "source": [
    "base_final.groupby('target').count()"
   ]
  },
  {
   "cell_type": "code",
   "execution_count": 234,
   "id": "6aae6768",
   "metadata": {},
   "outputs": [],
   "source": [
    "base_final.to_csv('./Resultados/predict_sca_ridge.csv',index=False)"
   ]
  },
  {
   "cell_type": "markdown",
   "id": "23443ad8",
   "metadata": {},
   "source": [
    "### Multiclass"
   ]
  },
  {
   "cell_type": "code",
   "execution_count": 250,
   "id": "65853a0e",
   "metadata": {},
   "outputs": [
    {
     "name": "stdout",
     "output_type": "stream",
     "text": [
      "Mejores parámetros:  {'classifier__learning_rate': 0.01}\n",
      "Mejor puntaje:  0.7127677614468555\n"
     ]
    }
   ],
   "source": [
    "from sklearn.preprocessing import MinMaxScaler\n",
    "from sklearn.impute import SimpleImputer\n",
    "\n",
    "\n",
    "pipeline = Pipeline([\n",
    "     ('imputer', SimpleImputer(strategy='mean')),\n",
    "    ('classifier', HistGradientBoostingClassifier())\n",
    "])\n",
    "\n",
    "param_grid = {\n",
    "    'classifier__learning_rate': [0.01]\n",
    "}\n",
    "\n",
    "grid_search_gb = GridSearchCV(pipeline, param_grid, cv=5)\n",
    "\n",
    "grid_search_gb.fit(X_Base, y_Base)\n",
    "print(\"Mejores parámetros: \", grid_search_gb.best_params_)\n",
    "print(\"Mejor puntaje: \", grid_search_gb.best_score_)"
   ]
  },
  {
   "cell_type": "code",
   "execution_count": 251,
   "id": "39ec3b49",
   "metadata": {},
   "outputs": [
    {
     "name": "stdout",
     "output_type": "stream",
     "text": [
      "Score with the test data R^2=0.7201\n"
     ]
    },
    {
     "data": {
      "image/png": "[encoded data removed]",
      "text/plain": [
       "<Figure size 640x480 with 1 Axes>"
      ]
     },
     "metadata": {},
     "output_type": "display_data"
    }
   ],
   "source": [
    "from sklearn.metrics import confusion_matrix\n",
    "from sklearn import metrics\n",
    "import seaborn as sns; sns.set()\n",
    "import matplotlib.pyplot as  plt \n",
    "\n",
    "print(\"Score with the test data R^2={0:.4f}\".format(grid_search_gb.score(X_test, y_test)))\n",
    "y_pred_test_pipeline = grid_search_gb.predict(X_test)\n",
    "mat_conf = metrics.confusion_matrix(y_pred_test_pipeline, y_test) # código que calcula la matriz de confusión para el conjunto de test\n",
    "\n",
    "sns.heatmap(mat_conf.T, square=True, annot=True, fmt='d', cbar=False,\n",
    "            xticklabels=summary_mean.index,\n",
    "            yticklabels=summary_mean.index)\n",
    "plt.xlabel('clase predicha')\n",
    "plt.ylabel('clase real');"
   ]
  },
  {
   "cell_type": "code",
   "execution_count": 252,
   "id": "0edb87bc",
   "metadata": {},
   "outputs": [],
   "source": [
    "import pickle\n",
    "\n",
    "# save the iris classification model as a pickle file\n",
    "model_pkl_file = \"./Modelos/sca_gb.pkl\"  \n",
    "\n",
    "with open(model_pkl_file, 'wb') as file:  \n",
    "    pickle.dump(grid_search_gb, file)\n",
    "\n",
    "with open(model_pkl_file, 'rb') as file:  \n",
    "    model_sca_gb = pickle.load(file)"
   ]
  },
  {
   "cell_type": "markdown",
   "id": "43e7be99",
   "metadata": {},
   "source": [
    "### testing"
   ]
  },
  {
   "cell_type": "code",
   "execution_count": 253,
   "id": "79c3e9f6",
   "metadata": {},
   "outputs": [
    {
     "name": "stderr",
     "output_type": "stream",
     "text": [
      "C:\\Users\\yajai\\Anaconda3\\lib\\site-packages\\sklearn\\base.py:432: UserWarning: X has feature names, but SimpleImputer was fitted without feature names\n",
      "  warnings.warn(\n"
     ]
    }
   ],
   "source": [
    "predict = model_sca_gb.predict(test_scale)"
   ]
  },
  {
   "cell_type": "code",
   "execution_count": 254,
   "id": "89d64707",
   "metadata": {},
   "outputs": [],
   "source": [
    "y_predict = pd.DataFrame(predict,columns=['target'])\n",
    "base_final =y_predict.join(test['ID'])[['ID','target']]"
   ]
  },
  {
   "cell_type": "code",
   "execution_count": 255,
   "id": "f21eb8be",
   "metadata": {},
   "outputs": [
    {
     "data": {
      "text/html": [
       "<div>\n",
       "<style scoped>\n",
       "    .dataframe tbody tr th:only-of-type {\n",
       "        vertical-align: middle;\n",
       "    }\n",
       "\n",
       "    .dataframe tbody tr th {\n",
       "        vertical-align: top;\n",
       "    }\n",
       "\n",
       "    .dataframe thead th {\n",
       "        text-align: right;\n",
       "    }\n",
       "</style>\n",
       "<table border=\"1\" class=\"dataframe\">\n",
       "  <thead>\n",
       "    <tr style=\"text-align: right;\">\n",
       "      <th></th>\n",
       "      <th>ID</th>\n",
       "    </tr>\n",
       "    <tr>\n",
       "      <th>target</th>\n",
       "      <th></th>\n",
       "    </tr>\n",
       "  </thead>\n",
       "  <tbody>\n",
       "    <tr>\n",
       "      <th>1</th>\n",
       "      <td>969</td>\n",
       "    </tr>\n",
       "    <tr>\n",
       "      <th>2</th>\n",
       "      <td>6</td>\n",
       "    </tr>\n",
       "    <tr>\n",
       "      <th>3</th>\n",
       "      <td>603</td>\n",
       "    </tr>\n",
       "    <tr>\n",
       "      <th>4</th>\n",
       "      <td>1889</td>\n",
       "    </tr>\n",
       "    <tr>\n",
       "      <th>5</th>\n",
       "      <td>10333</td>\n",
       "    </tr>\n",
       "  </tbody>\n",
       "</table>\n",
       "</div>"
      ],
      "text/plain": [
       "           ID\n",
       "target       \n",
       "1         969\n",
       "2           6\n",
       "3         603\n",
       "4        1889\n",
       "5       10333"
      ]
     },
     "execution_count": 255,
     "metadata": {},
     "output_type": "execute_result"
    }
   ],
   "source": [
    "base_final.groupby('target').count()"
   ]
  },
  {
   "cell_type": "code",
   "execution_count": 256,
   "id": "73d872f9",
   "metadata": {},
   "outputs": [],
   "source": [
    "base_final.to_csv('./Resultados/predict_sca_gb.csv',index=False)"
   ]
  },
  {
   "cell_type": "code",
   "execution_count": null,
   "id": "3e78986f",
   "metadata": {},
   "outputs": [],
   "source": []
  },
  {
   "cell_type": "code",
   "execution_count": null,
   "id": "95343d6f",
   "metadata": {},
   "outputs": [],
   "source": []
  },
  {
   "cell_type": "code",
   "execution_count": null,
   "id": "02d9c4c1",
   "metadata": {},
   "outputs": [],
   "source": []
  },
  {
   "cell_type": "code",
   "execution_count": 472,
   "id": "63928ccd",
   "metadata": {},
   "outputs": [],
   "source": [
    "target_fil =['target_1','target_2','target_3','target_4','target_5']"
   ]
  },
  {
   "cell_type": "code",
   "execution_count": 473,
   "id": "ce8bb3b0",
   "metadata": {},
   "outputs": [],
   "source": [
    "columns_base=[]\n",
    "for c in train_scale.columns : \n",
    "    if c not in target_fil :\n",
    "        columns_base.append(c)"
   ]
  },
  {
   "cell_type": "code",
   "execution_count": 474,
   "id": "50872b91",
   "metadata": {},
   "outputs": [],
   "source": [
    "target = train_scale.loc[:,target_fil].values\n",
    "Base = train_scale.loc[:,columns_base].values"
   ]
  },
  {
   "cell_type": "code",
   "execution_count": 475,
   "id": "58a4f4b3",
   "metadata": {},
   "outputs": [],
   "source": [
    "from sklearn.model_selection import train_test_split"
   ]
  },
  {
   "cell_type": "code",
   "execution_count": 476,
   "id": "fd9a9fd4",
   "metadata": {},
   "outputs": [],
   "source": [
    "X_Base, X_test, y_Base, y_test = train_test_split(Base,target, test_size=0.33, random_state=42)"
   ]
  },
  {
   "cell_type": "code",
   "execution_count": 477,
   "id": "e9f630f0",
   "metadata": {},
   "outputs": [
    {
     "name": "stdout",
     "output_type": "stream",
     "text": [
      "Target_1, R^2=0.91\n",
      "Target_2, R^2=0.97\n",
      "Target_3, R^2=0.91\n",
      "Target_4, R^2=0.81\n",
      "Target_5, R^2=0.67\n"
     ]
    }
   ],
   "source": [
    "gb_hist=[]\n",
    "for ii in range(5):\n",
    "    gb = HistGradientBoostingClassifier().fit(X_Base,y_Base[:,ii])\n",
    "    gb_hist.append(gb)\n",
    "    print('Target_{0:d}, R^2={1:.2f}'.format(ii+1,gb.score(X_Base,y_Base[:,ii])))"
   ]
  },
  {
   "cell_type": "code",
   "execution_count": 478,
   "id": "49b3a616",
   "metadata": {},
   "outputs": [
    {
     "name": "stdout",
     "output_type": "stream",
     "text": [
      "Target_1, R^2=0.90\n",
      "Target_2, R^2=0.97\n",
      "Target_3, R^2=0.92\n",
      "Target_4, R^2=0.81\n",
      "Target_5, R^2=0.65\n"
     ]
    }
   ],
   "source": [
    "for ii in range(5):\n",
    "    print('Target_{0:d}, R^2={1:.2f}'.format(ii+1,gb_hist[ii].score(X_test,y_test[:,ii])))"
   ]
  },
  {
   "cell_type": "code",
   "execution_count": 479,
   "id": "4b95e3c7",
   "metadata": {},
   "outputs": [],
   "source": [
    "from sklearn.metrics import classification_report, log_loss, roc_auc_score"
   ]
  },
  {
   "cell_type": "code",
   "execution_count": 480,
   "id": "68f074d3",
   "metadata": {},
   "outputs": [],
   "source": [
    "y_pred_hist=[]\n",
    "for ii in range(len(target_fil)):\n",
    "    y_pred = gb_hist[ii].predict(X_test)\n",
    "    y_pred_hist.append(y_pred)"
   ]
  },
  {
   "cell_type": "code",
   "execution_count": 482,
   "id": "472121c9",
   "metadata": {},
   "outputs": [],
   "source": [
    "y_predict= np.array(y_pred_hist).transpose()"
   ]
  },
  {
   "cell_type": "code",
   "execution_count": 483,
   "id": "32446340",
   "metadata": {},
   "outputs": [
    {
     "data": {
      "text/plain": [
       "(array([0, 0, 0, ..., 0, 0, 0], dtype=uint8),\n",
       " array([0, 0, 0, ..., 0, 0, 0], dtype=uint8))"
      ]
     },
     "execution_count": 483,
     "metadata": {},
     "output_type": "execute_result"
    }
   ],
   "source": [
    "y_predict[:,1] ,y_test[:,1]"
   ]
  },
  {
   "cell_type": "code",
   "execution_count": 484,
   "id": "ca06f665",
   "metadata": {},
   "outputs": [
    {
     "name": "stdout",
     "output_type": "stream",
     "text": [
      "ROC AUC: 0.6591614563730092\n",
      "ROC AUC: 0.5\n",
      "ROC AUC: 0.5\n",
      "ROC AUC: 0.5\n",
      "ROC AUC: 0.6064750633962654\n"
     ]
    }
   ],
   "source": [
    "for ii in range(5):\n",
    "    print('ROC AUC:',roc_auc_score(y_test[:,ii], y_predict[:,ii]))"
   ]
  },
  {
   "cell_type": "code",
   "execution_count": 485,
   "id": "e75fd328",
   "metadata": {},
   "outputs": [
    {
     "data": {
      "text/plain": [
       "array([0, 0, 0, ..., 0, 0, 0], dtype=uint8)"
      ]
     },
     "execution_count": 485,
     "metadata": {},
     "output_type": "execute_result"
    }
   ],
   "source": [
    "y_test[:,1]"
   ]
  },
  {
   "cell_type": "code",
   "execution_count": 509,
   "id": "c53919e0",
   "metadata": {},
   "outputs": [],
   "source": [
    "import pickle\n",
    "\n",
    "# save the iris classification model as a pickle file\n",
    "model_pkl_file = \"model_hgb_first_version.pkl\"  \n",
    "\n",
    "with open(model_pkl_file, 'wb') as file:  \n",
    "    pickle.dump(gb_hist, file)\n",
    "\n",
    "with open(model_pkl_file, 'rb') as file:  \n",
    "model_first_version = pickle.load(file)"
   ]
  },
  {
   "cell_type": "code",
   "execution_count": 510,
   "id": "0f5e1d2d",
   "metadata": {},
   "outputs": [],
   "source": [
    "with open(model_pkl_file, 'rb') as file:  \n",
    "    model_first_version = pickle.load(file)\n"
   ]
  },
  {
   "cell_type": "markdown",
   "id": "b5c93789",
   "metadata": {},
   "source": [
    "## Segunda versión"
   ]
  },
  {
   "cell_type": "code",
   "execution_count": 549,
   "id": "88d8e41f",
   "metadata": {},
   "outputs": [],
   "source": [
    "train_scale1 = pd.DataFrame(Xs, columns=train_f.columns)\n",
    "train_scale1['target'] = train['target'].values.astype('str')"
   ]
  },
  {
   "cell_type": "code",
   "execution_count": 550,
   "id": "865bf4ee",
   "metadata": {},
   "outputs": [],
   "source": [
    "train_scale1=train_scale1.dropna()"
   ]
  },
  {
   "cell_type": "code",
   "execution_count": 551,
   "id": "e5d31840",
   "metadata": {},
   "outputs": [],
   "source": [
    "target = train_scale1.loc[:,['target']].values\n",
    "Base = train_scale1.loc[:,columns_base].values"
   ]
  },
  {
   "cell_type": "code",
   "execution_count": 552,
   "id": "84de581d",
   "metadata": {},
   "outputs": [],
   "source": [
    "from sklearn.model_selection import train_test_split"
   ]
  },
  {
   "cell_type": "code",
   "execution_count": 553,
   "id": "29af249f",
   "metadata": {},
   "outputs": [],
   "source": [
    "X_Base, X_test, y_Base, y_test = train_test_split(Base,target, test_size=0.33, random_state=42,stratify=target)"
   ]
  },
  {
   "cell_type": "code",
   "execution_count": 554,
   "id": "86810dc7",
   "metadata": {},
   "outputs": [
    {
     "name": "stdout",
     "output_type": "stream",
     "text": [
      "Target_1, R^2=0.62\n"
     ]
    }
   ],
   "source": [
    "gb_hist=[]\n",
    "for ii in range(1):\n",
    "    gb = HistGradientBoostingClassifier().fit(X_Base,y_Base[:,ii])\n",
    "    gb_hist.append(gb)\n",
    "    print('Target_{0:d}, R^2={1:.2f}'.format(ii+1,gb.score(X_Base,y_Base[:,ii])))"
   ]
  },
  {
   "cell_type": "code",
   "execution_count": 555,
   "id": "a40fb7c8",
   "metadata": {},
   "outputs": [
    {
     "name": "stdout",
     "output_type": "stream",
     "text": [
      "Target_1, R^2=0.60\n"
     ]
    }
   ],
   "source": [
    "for ii in range(1):\n",
    "    print('Target_{0:d}, R^2={1:.2f}'.format(ii+1,gb_hist[ii].score(X_test,y_test[:,ii])))"
   ]
  },
  {
   "cell_type": "code",
   "execution_count": 556,
   "id": "87ab0905",
   "metadata": {},
   "outputs": [],
   "source": [
    "y_pred_hist=[]\n",
    "for ii in range(1):\n",
    "    y_pred = gb_hist[ii].predict(X_test)\n",
    "    y_pred_hist.append(y_pred)"
   ]
  },
  {
   "cell_type": "code",
   "execution_count": 558,
   "id": "67fe5f70",
   "metadata": {},
   "outputs": [],
   "source": [
    "import pickle\n",
    "\n",
    "# save the iris classification model as a pickle file\n",
    "model_pkl_file = \"model_hgb_second_version.pkl\"  \n",
    "\n",
    "with open(model_pkl_file, 'wb') as file:  \n",
    "    pickle.dump(gb_hist, file)\n",
    "\n",
    "with open(model_pkl_file, 'rb') as file:  \n",
    "    model_second_version = pickle.load(file)"
   ]
  },
  {
   "cell_type": "markdown",
   "id": "46b222ea",
   "metadata": {},
   "source": [
    "## tercera version"
   ]
  },
  {
   "cell_type": "code",
   "execution_count": 638,
   "id": "17b1a642",
   "metadata": {},
   "outputs": [],
   "source": [
    "from imblearn.over_sampling import SMOTE\n",
    "from collections import Counter\n",
    "from matplotlib import pyplot\n",
    "from sklearn.preprocessing import LabelEncoder"
   ]
  },
  {
   "cell_type": "code",
   "execution_count": 639,
   "id": "5075cbfc",
   "metadata": {},
   "outputs": [],
   "source": [
    "train_scale2 = pd.DataFrame(Xs, columns=train_f.columns)\n",
    "train_scale2['target'] = train['target']"
   ]
  },
  {
   "cell_type": "code",
   "execution_count": 640,
   "id": "db40c88f",
   "metadata": {},
   "outputs": [],
   "source": [
    "train_scale2 =train_scale2.dropna()"
   ]
  },
  {
   "cell_type": "code",
   "execution_count": 641,
   "id": "80b07afc",
   "metadata": {},
   "outputs": [],
   "source": [
    "target = train_scale2.loc[:,['target']].values\n",
    "Base = train_scale2.loc[:,columns_base].values"
   ]
  },
  {
   "cell_type": "code",
   "execution_count": 642,
   "id": "d890d1e9",
   "metadata": {},
   "outputs": [
    {
     "name": "stdout",
     "output_type": "stream",
     "text": [
      "Class=5, n=16982 (57.576%)\n",
      "Class=1, n=16982 (57.576%)\n",
      "Class=4, n=16982 (57.576%)\n",
      "Class=2, n=16982 (57.576%)\n",
      "Class=3, n=16982 (57.576%)\n"
     ]
    },
    {
     "data": {
      "image/png": "[encoded data removed]",
      "text/plain": [
       "<Figure size 640x480 with 1 Axes>"
      ]
     },
     "metadata": {},
     "output_type": "display_data"
    }
   ],
   "source": [
    "#target = LabelEncoder().fit_transform(target)\n",
    "# transform the dataset\n",
    "oversample = SMOTE()\n",
    "Base1, target1 = oversample.fit_resample(Base, target)\n",
    "# summarize distribution\n",
    "counter = Counter(target1)\n",
    "for k,v in counter.items():\n",
    " per = v / len(target) * 100\n",
    " print('Class=%d, n=%d (%.3f%%)' % (k, v, per))\n",
    "# plot the distribution\n",
    "pyplot.bar(counter.keys(), counter.values())\n",
    "pyplot.show()"
   ]
  },
  {
   "cell_type": "code",
   "execution_count": 647,
   "id": "7c6a4a85",
   "metadata": {},
   "outputs": [
    {
     "data": {
      "text/plain": [
       "(84910,)"
      ]
     },
     "execution_count": 647,
     "metadata": {},
     "output_type": "execute_result"
    }
   ],
   "source": [
    "target1.shape"
   ]
  },
  {
   "cell_type": "code",
   "execution_count": 648,
   "id": "72cd3f4f",
   "metadata": {},
   "outputs": [
    {
     "data": {
      "text/plain": [
       "(84910, 44)"
      ]
     },
     "execution_count": 648,
     "metadata": {},
     "output_type": "execute_result"
    }
   ],
   "source": [
    "Base1.shape"
   ]
  },
  {
   "cell_type": "code",
   "execution_count": 643,
   "id": "e36a76c3",
   "metadata": {},
   "outputs": [],
   "source": [
    "from sklearn.model_selection import train_test_split"
   ]
  },
  {
   "cell_type": "code",
   "execution_count": 649,
   "id": "79078ef3",
   "metadata": {},
   "outputs": [],
   "source": [
    "X_Base, X_test, y_Base, y_test = train_test_split(Base1,target1, test_size=0.33, random_state=42,stratify=target1)"
   ]
  },
  {
   "cell_type": "code",
   "execution_count": 650,
   "id": "6763f8f2",
   "metadata": {},
   "outputs": [
    {
     "name": "stdout",
     "output_type": "stream",
     "text": [
      "Target_1, R^2=0.69\n"
     ]
    }
   ],
   "source": [
    "gb_hist=[]\n",
    "gb = HistGradientBoostingClassifier().fit(X_Base,y_Base)\n",
    "print('Target_{0:d}, R^2={1:.2f}'.format(ii+1,gb.score(X_Base,y_Base)))"
   ]
  },
  {
   "cell_type": "code",
   "execution_count": 651,
   "id": "721f5997",
   "metadata": {},
   "outputs": [
    {
     "name": "stdout",
     "output_type": "stream",
     "text": [
      "Target_1, R^2=0.62\n"
     ]
    }
   ],
   "source": [
    "print('Target_{0:d}, R^2={1:.2f}'.format(ii+1,gb.score(X_test,y_test)))"
   ]
  },
  {
   "cell_type": "code",
   "execution_count": 652,
   "id": "eb1e132c",
   "metadata": {},
   "outputs": [],
   "source": [
    "y_pred = gb.predict(X_test)"
   ]
  },
  {
   "cell_type": "code",
   "execution_count": 653,
   "id": "8bba266e",
   "metadata": {},
   "outputs": [
    {
     "data": {
      "text/plain": [
       "(array([2, 2, 5, 4, 5, 1, 4, 4, 5, 5, 5, 4, 2, 3, 5, 5, 5, 1, 2, 1, 4, 5,\n",
       "        4, 5, 3, 5, 4, 2, 2, 1, 5, 3, 1, 1, 5, 5, 4, 2, 3, 5, 3, 4, 4, 4,\n",
       "        5, 2, 5, 5, 4, 4, 2, 5, 3, 5, 4, 3, 4, 1, 5, 4, 5, 1, 1, 2, 5, 1,\n",
       "        1, 5, 3, 2, 2, 5, 5, 1, 3, 4, 5, 2, 5, 3, 5, 2, 2, 4, 3, 3, 4, 5,\n",
       "        4, 4, 1, 5, 2, 3, 3, 1, 1, 5, 1, 3], dtype=int64),\n",
       " array([3, 1, 5, 4, 4, 1, 5, 4, 3, 4, 4, 4, 2, 1, 1, 5, 1, 4, 2, 2, 4, 5,\n",
       "        2, 5, 3, 4, 1, 2, 4, 2, 5, 3, 1, 1, 5, 5, 4, 4, 3, 5, 1, 2, 4, 3,\n",
       "        5, 2, 5, 2, 3, 4, 2, 3, 3, 5, 4, 3, 1, 1, 4, 3, 5, 1, 1, 3, 5, 1,\n",
       "        3, 1, 3, 2, 2, 5, 1, 5, 4, 4, 5, 1, 5, 3, 2, 4, 2, 4, 4, 3, 1, 5,\n",
       "        2, 4, 1, 1, 2, 3, 3, 1, 1, 5, 1, 3], dtype=int64))"
      ]
     },
     "execution_count": 653,
     "metadata": {},
     "output_type": "execute_result"
    }
   ],
   "source": [
    "y_pred[0:100],y_test[0:100]"
   ]
  },
  {
   "cell_type": "code",
   "execution_count": 654,
   "id": "0fcc7c68",
   "metadata": {},
   "outputs": [],
   "source": [
    "import pickle\n",
    "\n",
    "# save the iris classification model as a pickle file\n",
    "model_pkl_file = \"model_hgb_tercer_version.pkl\"  \n",
    "\n",
    "with open(model_pkl_file, 'wb') as file:  \n",
    "    pickle.dump(gb, file)"
   ]
  },
  {
   "cell_type": "code",
   "execution_count": 655,
   "id": "74bbc48b",
   "metadata": {},
   "outputs": [],
   "source": [
    "model_pkl_file = \"model_hgb_tercer_version.pkl\"  \n",
    "with open(model_pkl_file, 'rb') as file:  \n",
    "    model_tercer_version = pickle.load(file)\n"
   ]
  },
  {
   "cell_type": "code",
   "execution_count": 463,
   "id": "54fb6b06",
   "metadata": {},
   "outputs": [
    {
     "data": {
      "text/plain": [
       "0.589963768115942"
      ]
     },
     "execution_count": 463,
     "metadata": {},
     "output_type": "execute_result"
    }
   ],
   "source": [
    "model.score(Base1,target)"
   ]
  },
  {
   "cell_type": "markdown",
   "id": "824a1d13",
   "metadata": {},
   "source": [
    "## cuarta version "
   ]
  },
  {
   "cell_type": "code",
   "execution_count": 677,
   "id": "53b74b35",
   "metadata": {},
   "outputs": [],
   "source": [
    "train_scale1 = pd.DataFrame(Xs, columns=train_f.columns)\n",
    "train_scale1['target'] = train['target'].values\n",
    "train_scale1 = train_scale1.dropna()\n",
    "target = train_scale1.loc[:,['target']].values\n",
    "Base = train_scale1.loc[:,columns_base].values"
   ]
  },
  {
   "cell_type": "code",
   "execution_count": 678,
   "id": "4238595a",
   "metadata": {},
   "outputs": [],
   "source": [
    "X_Base, X_test, y_Base, y_test = train_test_split(Base,target, test_size=0.33, random_state=42,stratify=target)"
   ]
  },
  {
   "cell_type": "code",
   "execution_count": 686,
   "id": "9b6ec815",
   "metadata": {},
   "outputs": [
    {
     "data": {
      "text/plain": [
       "(-5.162242080440373, -0.00041109968892572013)"
      ]
     },
     "execution_count": 686,
     "metadata": {},
     "output_type": "execute_result"
    }
   ],
   "source": [
    "from sklearn.linear_model import LinearRegression\n",
    "from sklearn.metrics import mean_absolute_error\n",
    "from sklearn.metrics import mean_squared_error\n",
    "from sklearn.metrics import r2_score\n",
    "\n",
    "lm = LinearRegression()\n",
    "\n",
    "lm.fit(X_Base, y_Base)\n",
    "\n",
    "predictions_train = lm.predict(X_Base)\n",
    "predictions_test = lm.predict(X_test)\n",
    "\n",
    "mean_absolute_error(predictions_train, y_Base)\n",
    "np.sqrt(mean_squared_error(predictions_train, y_Base))\n",
    "mean_absolute_error(predictions_test, y_test)\n",
    "np.sqrt(mean_squared_error(predictions_test, y_test))\n",
    "r2_score(predictions_train, y_Base) ,r2_score(predictions_test, y_test)"
   ]
  },
  {
   "cell_type": "code",
   "execution_count": 687,
   "id": "038768fd",
   "metadata": {},
   "outputs": [
    {
     "data": {
      "text/plain": [
       "(array([[4.37998962],\n",
       "        [4.42573547],\n",
       "        [3.9332428 ],\n",
       "        ...,\n",
       "        [2.89260864],\n",
       "        [4.33010864],\n",
       "        [3.31425476]]),\n",
       " array([[5],\n",
       "        [5],\n",
       "        [1],\n",
       "        ...,\n",
       "        [1],\n",
       "        [3],\n",
       "        [5]], dtype=int64))"
      ]
     },
     "execution_count": 687,
     "metadata": {},
     "output_type": "execute_result"
    }
   ],
   "source": [
    "predictions_test ,y_test "
   ]
  },
  {
   "cell_type": "markdown",
   "id": "22b6cc6b",
   "metadata": {},
   "source": [
    "## Aplicando al test"
   ]
  },
  {
   "cell_type": "code",
   "execution_count": 11,
   "id": "90a6465c",
   "metadata": {},
   "outputs": [
    {
     "data": {
      "text/html": [
       "<div>\n",
       "<style scoped>\n",
       "    .dataframe tbody tr th:only-of-type {\n",
       "        vertical-align: middle;\n",
       "    }\n",
       "\n",
       "    .dataframe tbody tr th {\n",
       "        vertical-align: top;\n",
       "    }\n",
       "\n",
       "    .dataframe thead th {\n",
       "        text-align: right;\n",
       "    }\n",
       "</style>\n",
       "<table border=\"1\" class=\"dataframe\">\n",
       "  <thead>\n",
       "    <tr style=\"text-align: right;\">\n",
       "      <th></th>\n",
       "      <th>ID</th>\n",
       "      <th>order_status</th>\n",
       "      <th>order_products_value</th>\n",
       "      <th>order_freight_value</th>\n",
       "      <th>order_items_qty</th>\n",
       "      <th>order_sellers_qty</th>\n",
       "      <th>order_purchase_timestamp</th>\n",
       "      <th>order_aproved_at</th>\n",
       "      <th>order_estimated_delivery_date</th>\n",
       "      <th>order_delivered_customer_date</th>\n",
       "      <th>customer_city</th>\n",
       "      <th>customer_state</th>\n",
       "      <th>customer_zip_code_prefix</th>\n",
       "      <th>product_category_name_english</th>\n",
       "      <th>product_name_lenght</th>\n",
       "      <th>product_description_lenght</th>\n",
       "      <th>product_photos_qty</th>\n",
       "    </tr>\n",
       "  </thead>\n",
       "  <tbody>\n",
       "    <tr>\n",
       "      <th>0</th>\n",
       "      <td>0</td>\n",
       "      <td>delivered</td>\n",
       "      <td>30.00</td>\n",
       "      <td>28.20</td>\n",
       "      <td>2.0</td>\n",
       "      <td>1.0</td>\n",
       "      <td>2017-06-22 20:28:16.000000</td>\n",
       "      <td>2017-06-22 20:42:51.013492</td>\n",
       "      <td>2017-07-14 00:00:00.000000</td>\n",
       "      <td>2017-09-19 15:17:37.767855</td>\n",
       "      <td>NaN</td>\n",
       "      <td>SP</td>\n",
       "      <td>48.0</td>\n",
       "      <td>health_beauty</td>\n",
       "      <td>17.0</td>\n",
       "      <td>547.0</td>\n",
       "      <td>1.0</td>\n",
       "    </tr>\n",
       "    <tr>\n",
       "      <th>1</th>\n",
       "      <td>1</td>\n",
       "      <td>delivered</td>\n",
       "      <td>89.90</td>\n",
       "      <td>12.33</td>\n",
       "      <td>1.0</td>\n",
       "      <td>1.0</td>\n",
       "      <td>NaN</td>\n",
       "      <td>2017-11-20 23:34:44.641435</td>\n",
       "      <td>2017-12-01 00:00:00.000000</td>\n",
       "      <td>2017-11-23 14:41:51.640086</td>\n",
       "      <td>Caieiras</td>\n",
       "      <td>SP</td>\n",
       "      <td>NaN</td>\n",
       "      <td>bed_bath_table</td>\n",
       "      <td>58.0</td>\n",
       "      <td>188.0</td>\n",
       "      <td>1.0</td>\n",
       "    </tr>\n",
       "    <tr>\n",
       "      <th>2</th>\n",
       "      <td>2</td>\n",
       "      <td>delivered</td>\n",
       "      <td>890.00</td>\n",
       "      <td>86.71</td>\n",
       "      <td>1.0</td>\n",
       "      <td>1.0</td>\n",
       "      <td>2018-02-12 12:31:32.000000</td>\n",
       "      <td>2018-02-15 03:55:50.384756</td>\n",
       "      <td>2018-03-09 00:00:00.000000</td>\n",
       "      <td>2018-02-27 15:19:06.698500</td>\n",
       "      <td>Sao Caetano do Sul</td>\n",
       "      <td>SP</td>\n",
       "      <td>95.0</td>\n",
       "      <td>health_beauty</td>\n",
       "      <td>57.0</td>\n",
       "      <td>537.0</td>\n",
       "      <td>1.0</td>\n",
       "    </tr>\n",
       "    <tr>\n",
       "      <th>3</th>\n",
       "      <td>3</td>\n",
       "      <td>delivered</td>\n",
       "      <td>85.00</td>\n",
       "      <td>17.84</td>\n",
       "      <td>1.0</td>\n",
       "      <td>NaN</td>\n",
       "      <td>2017-07-24 05:21:16.000000</td>\n",
       "      <td>NaN</td>\n",
       "      <td>2017-08-15 00:00:00.000000</td>\n",
       "      <td>2017-07-31 19:42:27.819239</td>\n",
       "      <td>Curitiba</td>\n",
       "      <td>PR</td>\n",
       "      <td>813.0</td>\n",
       "      <td>stationery</td>\n",
       "      <td>56.0</td>\n",
       "      <td>303.0</td>\n",
       "      <td>3.0</td>\n",
       "    </tr>\n",
       "    <tr>\n",
       "      <th>4</th>\n",
       "      <td>4</td>\n",
       "      <td>delivered</td>\n",
       "      <td>168.98</td>\n",
       "      <td>25.31</td>\n",
       "      <td>1.0</td>\n",
       "      <td>1.0</td>\n",
       "      <td>2018-03-29 22:20:33.000000</td>\n",
       "      <td>2018-03-29 22:30:18.256631</td>\n",
       "      <td>NaN</td>\n",
       "      <td>2018-05-15 15:05:44.342452</td>\n",
       "      <td>Aracaju</td>\n",
       "      <td>SE</td>\n",
       "      <td>490.0</td>\n",
       "      <td>bed_bath_table</td>\n",
       "      <td>60.0</td>\n",
       "      <td>496.0</td>\n",
       "      <td>2.0</td>\n",
       "    </tr>\n",
       "  </tbody>\n",
       "</table>\n",
       "</div>"
      ],
      "text/plain": [
       "   ID order_status  order_products_value  order_freight_value  \\\n",
       "0   0    delivered                 30.00                28.20   \n",
       "1   1    delivered                 89.90                12.33   \n",
       "2   2    delivered                890.00                86.71   \n",
       "3   3    delivered                 85.00                17.84   \n",
       "4   4    delivered                168.98                25.31   \n",
       "\n",
       "   order_items_qty  order_sellers_qty    order_purchase_timestamp  \\\n",
       "0              2.0                1.0  2017-06-22 20:28:16.000000   \n",
       "1              1.0                1.0                         NaN   \n",
       "2              1.0                1.0  2018-02-12 12:31:32.000000   \n",
       "3              1.0                NaN  2017-07-24 05:21:16.000000   \n",
       "4              1.0                1.0  2018-03-29 22:20:33.000000   \n",
       "\n",
       "             order_aproved_at order_estimated_delivery_date  \\\n",
       "0  2017-06-22 20:42:51.013492    2017-07-14 00:00:00.000000   \n",
       "1  2017-11-20 23:34:44.641435    2017-12-01 00:00:00.000000   \n",
       "2  2018-02-15 03:55:50.384756    2018-03-09 00:00:00.000000   \n",
       "3                         NaN    2017-08-15 00:00:00.000000   \n",
       "4  2018-03-29 22:30:18.256631                           NaN   \n",
       "\n",
       "  order_delivered_customer_date       customer_city customer_state  \\\n",
       "0    2017-09-19 15:17:37.767855                 NaN             SP   \n",
       "1    2017-11-23 14:41:51.640086            Caieiras             SP   \n",
       "2    2018-02-27 15:19:06.698500  Sao Caetano do Sul             SP   \n",
       "3    2017-07-31 19:42:27.819239            Curitiba             PR   \n",
       "4    2018-05-15 15:05:44.342452             Aracaju             SE   \n",
       "\n",
       "   customer_zip_code_prefix product_category_name_english  \\\n",
       "0                      48.0                 health_beauty   \n",
       "1                       NaN                bed_bath_table   \n",
       "2                      95.0                 health_beauty   \n",
       "3                     813.0                    stationery   \n",
       "4                     490.0                bed_bath_table   \n",
       "\n",
       "   product_name_lenght  product_description_lenght  product_photos_qty  \n",
       "0                 17.0                       547.0                 1.0  \n",
       "1                 58.0                       188.0                 1.0  \n",
       "2                 57.0                       537.0                 1.0  \n",
       "3                 56.0                       303.0                 3.0  \n",
       "4                 60.0                       496.0                 2.0  "
      ]
     },
     "execution_count": 11,
     "metadata": {},
     "output_type": "execute_result"
    }
   ],
   "source": [
    "test = pd.read_csv('test_set.csv')\n",
    "test.head()"
   ]
  },
  {
   "cell_type": "code",
   "execution_count": 501,
   "id": "d9fdd575",
   "metadata": {},
   "outputs": [],
   "source": [
    "test['fecha_deliveried_estdelivery']  =  (pd.to_datetime(test['order_delivered_customer_date']) - pd.to_datetime(test['order_estimated_delivery_date'])).dt.days\n",
    "test['fecha_deliveried_orderaproved']  =  (pd.to_datetime(test['order_delivered_customer_date']) - pd.to_datetime(test['order_aproved_at'])).dt.days\n",
    "test['fecha_deliveried_purchased']  =  (pd.to_datetime(test['order_delivered_customer_date']) - pd.to_datetime(test['order_purchase_timestamp'])).dt.days"
   ]
  },
  {
   "cell_type": "code",
   "execution_count": 502,
   "id": "cf22f952",
   "metadata": {},
   "outputs": [],
   "source": [
    "columns= test.columns"
   ]
  },
  {
   "cell_type": "code",
   "execution_count": 503,
   "id": "d173f243",
   "metadata": {},
   "outputs": [],
   "source": [
    "date_columns = ['order_delivered_customer_date','order_estimated_delivery_date','order_aproved_at','order_purchase_timestamp']\n",
    "cities_columns = ['customer_city']\n",
    "product_name = ['product_category_name_english']\n",
    "ID = ['ID']"
   ]
  },
  {
   "cell_type": "code",
   "execution_count": 504,
   "id": "dd8f37d5",
   "metadata": {},
   "outputs": [],
   "source": [
    "columns_f=[]\n",
    "for c in columns : \n",
    "    if c not in date_columns and c not in cities_columns and c not in product_name and c not in ID: \n",
    "            columns_f.append(c)"
   ]
  },
  {
   "cell_type": "code",
   "execution_count": 505,
   "id": "d8cec93a",
   "metadata": {},
   "outputs": [],
   "source": [
    "test_f = pd.get_dummies(test[columns_f])"
   ]
  },
  {
   "cell_type": "code",
   "execution_count": 506,
   "id": "d6fe5663",
   "metadata": {},
   "outputs": [],
   "source": [
    "sc = StandardScaler()\n",
    "Xs = sc.fit_transform(test_f)"
   ]
  },
  {
   "cell_type": "code",
   "execution_count": 507,
   "id": "89a1e767",
   "metadata": {},
   "outputs": [],
   "source": [
    "test_scale = pd.DataFrame(Xs, columns=test_f.columns)"
   ]
  },
  {
   "cell_type": "code",
   "execution_count": 661,
   "id": "5c02a2ca",
   "metadata": {},
   "outputs": [],
   "source": [
    "y_pred_hist=[]\n",
    "for ii in range(5):\n",
    "    y_pred = model_first_version[ii].predict(test_scale.values)\n",
    "    y_pred_hist.append(y_pred)"
   ]
  },
  {
   "cell_type": "code",
   "execution_count": 662,
   "id": "fecf0415",
   "metadata": {},
   "outputs": [],
   "source": [
    "y_predict= np.array(y_pred_hist).transpose()"
   ]
  },
  {
   "cell_type": "code",
   "execution_count": 663,
   "id": "4a618f6a",
   "metadata": {},
   "outputs": [],
   "source": [
    "y_pred = pd.DataFrame(y_predict,columns=['1','2','3','4','5'])"
   ]
  },
  {
   "cell_type": "code",
   "execution_count": 664,
   "id": "57164fc6",
   "metadata": {},
   "outputs": [],
   "source": [
    "base_final = y_pred.join(test['ID'])"
   ]
  },
  {
   "cell_type": "code",
   "execution_count": 665,
   "id": "fc47adf2",
   "metadata": {},
   "outputs": [
    {
     "data": {
      "text/html": [
       "<div>\n",
       "<style scoped>\n",
       "    .dataframe tbody tr th:only-of-type {\n",
       "        vertical-align: middle;\n",
       "    }\n",
       "\n",
       "    .dataframe tbody tr th {\n",
       "        vertical-align: top;\n",
       "    }\n",
       "\n",
       "    .dataframe thead th {\n",
       "        text-align: right;\n",
       "    }\n",
       "</style>\n",
       "<table border=\"1\" class=\"dataframe\">\n",
       "  <thead>\n",
       "    <tr style=\"text-align: right;\">\n",
       "      <th></th>\n",
       "      <th>1</th>\n",
       "      <th>2</th>\n",
       "      <th>3</th>\n",
       "      <th>4</th>\n",
       "      <th>5</th>\n",
       "      <th>ID</th>\n",
       "    </tr>\n",
       "  </thead>\n",
       "  <tbody>\n",
       "    <tr>\n",
       "      <th>0</th>\n",
       "      <td>0</td>\n",
       "      <td>0</td>\n",
       "      <td>0</td>\n",
       "      <td>0</td>\n",
       "      <td>0</td>\n",
       "      <td>0</td>\n",
       "    </tr>\n",
       "    <tr>\n",
       "      <th>1</th>\n",
       "      <td>0</td>\n",
       "      <td>0</td>\n",
       "      <td>0</td>\n",
       "      <td>0</td>\n",
       "      <td>1</td>\n",
       "      <td>1</td>\n",
       "    </tr>\n",
       "    <tr>\n",
       "      <th>2</th>\n",
       "      <td>0</td>\n",
       "      <td>0</td>\n",
       "      <td>0</td>\n",
       "      <td>0</td>\n",
       "      <td>1</td>\n",
       "      <td>2</td>\n",
       "    </tr>\n",
       "    <tr>\n",
       "      <th>3</th>\n",
       "      <td>0</td>\n",
       "      <td>0</td>\n",
       "      <td>0</td>\n",
       "      <td>0</td>\n",
       "      <td>1</td>\n",
       "      <td>3</td>\n",
       "    </tr>\n",
       "    <tr>\n",
       "      <th>4</th>\n",
       "      <td>0</td>\n",
       "      <td>0</td>\n",
       "      <td>0</td>\n",
       "      <td>0</td>\n",
       "      <td>0</td>\n",
       "      <td>4</td>\n",
       "    </tr>\n",
       "    <tr>\n",
       "      <th>...</th>\n",
       "      <td>...</td>\n",
       "      <td>...</td>\n",
       "      <td>...</td>\n",
       "      <td>...</td>\n",
       "      <td>...</td>\n",
       "      <td>...</td>\n",
       "    </tr>\n",
       "    <tr>\n",
       "      <th>13795</th>\n",
       "      <td>0</td>\n",
       "      <td>0</td>\n",
       "      <td>0</td>\n",
       "      <td>0</td>\n",
       "      <td>1</td>\n",
       "      <td>13795</td>\n",
       "    </tr>\n",
       "    <tr>\n",
       "      <th>13796</th>\n",
       "      <td>0</td>\n",
       "      <td>0</td>\n",
       "      <td>0</td>\n",
       "      <td>0</td>\n",
       "      <td>1</td>\n",
       "      <td>13796</td>\n",
       "    </tr>\n",
       "    <tr>\n",
       "      <th>13797</th>\n",
       "      <td>0</td>\n",
       "      <td>0</td>\n",
       "      <td>0</td>\n",
       "      <td>0</td>\n",
       "      <td>1</td>\n",
       "      <td>13797</td>\n",
       "    </tr>\n",
       "    <tr>\n",
       "      <th>13798</th>\n",
       "      <td>0</td>\n",
       "      <td>0</td>\n",
       "      <td>0</td>\n",
       "      <td>0</td>\n",
       "      <td>1</td>\n",
       "      <td>13798</td>\n",
       "    </tr>\n",
       "    <tr>\n",
       "      <th>13799</th>\n",
       "      <td>0</td>\n",
       "      <td>0</td>\n",
       "      <td>0</td>\n",
       "      <td>0</td>\n",
       "      <td>1</td>\n",
       "      <td>13799</td>\n",
       "    </tr>\n",
       "  </tbody>\n",
       "</table>\n",
       "<p>13800 rows × 6 columns</p>\n",
       "</div>"
      ],
      "text/plain": [
       "       1  2  3  4  5     ID\n",
       "0      0  0  0  0  0      0\n",
       "1      0  0  0  0  1      1\n",
       "2      0  0  0  0  1      2\n",
       "3      0  0  0  0  1      3\n",
       "4      0  0  0  0  0      4\n",
       "...   .. .. .. .. ..    ...\n",
       "13795  0  0  0  0  1  13795\n",
       "13796  0  0  0  0  1  13796\n",
       "13797  0  0  0  0  1  13797\n",
       "13798  0  0  0  0  1  13798\n",
       "13799  0  0  0  0  1  13799\n",
       "\n",
       "[13800 rows x 6 columns]"
      ]
     },
     "execution_count": 665,
     "metadata": {},
     "output_type": "execute_result"
    }
   ],
   "source": [
    "base_final"
   ]
  },
  {
   "cell_type": "code",
   "execution_count": 668,
   "id": "265f8215",
   "metadata": {},
   "outputs": [],
   "source": [
    "conditionlist = [\n",
    "    (base_final['1']==1),\n",
    "    (base_final['2']==1),\n",
    "    (base_final['3']==1),\n",
    "    (base_final['4']==1)]\n",
    "choicelist = [1, 2, 3, 4]\n",
    "base_final['target'] = np.select(conditionlist, choicelist, default=5)"
   ]
  },
  {
   "cell_type": "code",
   "execution_count": 670,
   "id": "57a327f9",
   "metadata": {},
   "outputs": [
    {
     "data": {
      "text/html": [
       "<div>\n",
       "<style scoped>\n",
       "    .dataframe tbody tr th:only-of-type {\n",
       "        vertical-align: middle;\n",
       "    }\n",
       "\n",
       "    .dataframe tbody tr th {\n",
       "        vertical-align: top;\n",
       "    }\n",
       "\n",
       "    .dataframe thead th {\n",
       "        text-align: right;\n",
       "    }\n",
       "</style>\n",
       "<table border=\"1\" class=\"dataframe\">\n",
       "  <thead>\n",
       "    <tr style=\"text-align: right;\">\n",
       "      <th></th>\n",
       "      <th>1</th>\n",
       "      <th>2</th>\n",
       "      <th>3</th>\n",
       "      <th>4</th>\n",
       "      <th>5</th>\n",
       "      <th>ID</th>\n",
       "    </tr>\n",
       "    <tr>\n",
       "      <th>target</th>\n",
       "      <th></th>\n",
       "      <th></th>\n",
       "      <th></th>\n",
       "      <th></th>\n",
       "      <th></th>\n",
       "      <th></th>\n",
       "    </tr>\n",
       "  </thead>\n",
       "  <tbody>\n",
       "    <tr>\n",
       "      <th>1</th>\n",
       "      <td>583</td>\n",
       "      <td>583</td>\n",
       "      <td>583</td>\n",
       "      <td>583</td>\n",
       "      <td>583</td>\n",
       "      <td>583</td>\n",
       "    </tr>\n",
       "    <tr>\n",
       "      <th>5</th>\n",
       "      <td>13217</td>\n",
       "      <td>13217</td>\n",
       "      <td>13217</td>\n",
       "      <td>13217</td>\n",
       "      <td>13217</td>\n",
       "      <td>13217</td>\n",
       "    </tr>\n",
       "  </tbody>\n",
       "</table>\n",
       "</div>"
      ],
      "text/plain": [
       "            1      2      3      4      5     ID\n",
       "target                                          \n",
       "1         583    583    583    583    583    583\n",
       "5       13217  13217  13217  13217  13217  13217"
      ]
     },
     "execution_count": 670,
     "metadata": {},
     "output_type": "execute_result"
    }
   ],
   "source": [
    "base_final.groupby('target').count()"
   ]
  },
  {
   "cell_type": "code",
   "execution_count": 671,
   "id": "ffb09211",
   "metadata": {},
   "outputs": [],
   "source": [
    "base = base_final[['ID','target']]"
   ]
  },
  {
   "cell_type": "code",
   "execution_count": 672,
   "id": "9f7d9441",
   "metadata": {},
   "outputs": [],
   "source": [
    "base.to_csv('submission_primer_version.csv',index=False)"
   ]
  },
  {
   "cell_type": "code",
   "execution_count": null,
   "id": "1ec0461f",
   "metadata": {},
   "outputs": [],
   "source": [
    "# segunda Version"
   ]
  },
  {
   "cell_type": "code",
   "execution_count": null,
   "id": "df8e7ad2",
   "metadata": {},
   "outputs": [],
   "source": [
    "model_second_version"
   ]
  },
  {
   "cell_type": "code",
   "execution_count": 584,
   "id": "d4e37fa2",
   "metadata": {},
   "outputs": [],
   "source": [
    "y_pred_hist=[]\n",
    "for ii in range(1):\n",
    "    y_pred = model_second_version[ii].predict(test_scale.values)\n",
    "    y_pred_hist.append(y_pred)"
   ]
  },
  {
   "cell_type": "code",
   "execution_count": 585,
   "id": "6f571b41",
   "metadata": {},
   "outputs": [
    {
     "data": {
      "text/plain": [
       "[array(['1', '5', '5', ..., '5', '5', '5'], dtype=object)]"
      ]
     },
     "execution_count": 585,
     "metadata": {},
     "output_type": "execute_result"
    }
   ],
   "source": [
    "y_pred_hist"
   ]
  },
  {
   "cell_type": "code",
   "execution_count": 586,
   "id": "e2235102",
   "metadata": {},
   "outputs": [],
   "source": [
    "y_pred = pd.DataFrame(np.array(y_pred_hist).transpose(),columns=['target'])"
   ]
  },
  {
   "cell_type": "code",
   "execution_count": 587,
   "id": "d8b71377",
   "metadata": {},
   "outputs": [],
   "source": [
    "base_final2 = y_pred.join(test['ID'])\n",
    "base = base_final2[['ID','target']]"
   ]
  },
  {
   "cell_type": "code",
   "execution_count": 589,
   "id": "0037656e",
   "metadata": {},
   "outputs": [
    {
     "data": {
      "text/html": [
       "<div>\n",
       "<style scoped>\n",
       "    .dataframe tbody tr th:only-of-type {\n",
       "        vertical-align: middle;\n",
       "    }\n",
       "\n",
       "    .dataframe tbody tr th {\n",
       "        vertical-align: top;\n",
       "    }\n",
       "\n",
       "    .dataframe thead th {\n",
       "        text-align: right;\n",
       "    }\n",
       "</style>\n",
       "<table border=\"1\" class=\"dataframe\">\n",
       "  <thead>\n",
       "    <tr style=\"text-align: right;\">\n",
       "      <th></th>\n",
       "      <th>ID</th>\n",
       "      <th>target</th>\n",
       "    </tr>\n",
       "  </thead>\n",
       "  <tbody>\n",
       "    <tr>\n",
       "      <th>0</th>\n",
       "      <td>0</td>\n",
       "      <td>1</td>\n",
       "    </tr>\n",
       "    <tr>\n",
       "      <th>1</th>\n",
       "      <td>1</td>\n",
       "      <td>5</td>\n",
       "    </tr>\n",
       "    <tr>\n",
       "      <th>2</th>\n",
       "      <td>2</td>\n",
       "      <td>5</td>\n",
       "    </tr>\n",
       "    <tr>\n",
       "      <th>3</th>\n",
       "      <td>3</td>\n",
       "      <td>5</td>\n",
       "    </tr>\n",
       "    <tr>\n",
       "      <th>4</th>\n",
       "      <td>4</td>\n",
       "      <td>5</td>\n",
       "    </tr>\n",
       "    <tr>\n",
       "      <th>...</th>\n",
       "      <td>...</td>\n",
       "      <td>...</td>\n",
       "    </tr>\n",
       "    <tr>\n",
       "      <th>13795</th>\n",
       "      <td>13795</td>\n",
       "      <td>5</td>\n",
       "    </tr>\n",
       "    <tr>\n",
       "      <th>13796</th>\n",
       "      <td>13796</td>\n",
       "      <td>5</td>\n",
       "    </tr>\n",
       "    <tr>\n",
       "      <th>13797</th>\n",
       "      <td>13797</td>\n",
       "      <td>5</td>\n",
       "    </tr>\n",
       "    <tr>\n",
       "      <th>13798</th>\n",
       "      <td>13798</td>\n",
       "      <td>5</td>\n",
       "    </tr>\n",
       "    <tr>\n",
       "      <th>13799</th>\n",
       "      <td>13799</td>\n",
       "      <td>5</td>\n",
       "    </tr>\n",
       "  </tbody>\n",
       "</table>\n",
       "<p>13800 rows × 2 columns</p>\n",
       "</div>"
      ],
      "text/plain": [
       "          ID target\n",
       "0          0      1\n",
       "1          1      5\n",
       "2          2      5\n",
       "3          3      5\n",
       "4          4      5\n",
       "...      ...    ...\n",
       "13795  13795      5\n",
       "13796  13796      5\n",
       "13797  13797      5\n",
       "13798  13798      5\n",
       "13799  13799      5\n",
       "\n",
       "[13800 rows x 2 columns]"
      ]
     },
     "execution_count": 589,
     "metadata": {},
     "output_type": "execute_result"
    }
   ],
   "source": [
    "base"
   ]
  },
  {
   "cell_type": "code",
   "execution_count": 590,
   "id": "45c2ffc8",
   "metadata": {},
   "outputs": [
    {
     "data": {
      "text/html": [
       "<div>\n",
       "<style scoped>\n",
       "    .dataframe tbody tr th:only-of-type {\n",
       "        vertical-align: middle;\n",
       "    }\n",
       "\n",
       "    .dataframe tbody tr th {\n",
       "        vertical-align: top;\n",
       "    }\n",
       "\n",
       "    .dataframe thead th {\n",
       "        text-align: right;\n",
       "    }\n",
       "</style>\n",
       "<table border=\"1\" class=\"dataframe\">\n",
       "  <thead>\n",
       "    <tr style=\"text-align: right;\">\n",
       "      <th></th>\n",
       "      <th>ID</th>\n",
       "    </tr>\n",
       "    <tr>\n",
       "      <th>target</th>\n",
       "      <th></th>\n",
       "    </tr>\n",
       "  </thead>\n",
       "  <tbody>\n",
       "    <tr>\n",
       "      <th>1</th>\n",
       "      <td>849</td>\n",
       "    </tr>\n",
       "    <tr>\n",
       "      <th>2</th>\n",
       "      <td>1</td>\n",
       "    </tr>\n",
       "    <tr>\n",
       "      <th>3</th>\n",
       "      <td>4</td>\n",
       "    </tr>\n",
       "    <tr>\n",
       "      <th>4</th>\n",
       "      <td>21</td>\n",
       "    </tr>\n",
       "    <tr>\n",
       "      <th>5</th>\n",
       "      <td>12925</td>\n",
       "    </tr>\n",
       "  </tbody>\n",
       "</table>\n",
       "</div>"
      ],
      "text/plain": [
       "           ID\n",
       "target       \n",
       "1         849\n",
       "2           1\n",
       "3           4\n",
       "4          21\n",
       "5       12925"
      ]
     },
     "execution_count": 590,
     "metadata": {},
     "output_type": "execute_result"
    }
   ],
   "source": [
    "base.groupby('target').count()"
   ]
  },
  {
   "cell_type": "code",
   "execution_count": 592,
   "id": "5d0c4be9",
   "metadata": {},
   "outputs": [],
   "source": [
    "base.to_csv('submission.csv',index=False)"
   ]
  },
  {
   "cell_type": "code",
   "execution_count": 591,
   "id": "90f3ed91",
   "metadata": {},
   "outputs": [
    {
     "data": {
      "text/plain": [
       "ID        13800\n",
       "target    13800\n",
       "dtype: int64"
      ]
     },
     "execution_count": 591,
     "metadata": {},
     "output_type": "execute_result"
    }
   ],
   "source": [
    "base.count()"
   ]
  },
  {
   "cell_type": "markdown",
   "id": "1068f103",
   "metadata": {},
   "source": [
    "## tercera version"
   ]
  },
  {
   "cell_type": "code",
   "execution_count": 656,
   "id": "1bbac254",
   "metadata": {},
   "outputs": [],
   "source": [
    "y_pred = model_tercer_version.predict(test_scale.values)"
   ]
  },
  {
   "cell_type": "code",
   "execution_count": 657,
   "id": "84548ace",
   "metadata": {},
   "outputs": [],
   "source": [
    "y_pred = pd.DataFrame(np.array(y_pred).transpose(),columns=['target'])"
   ]
  },
  {
   "cell_type": "code",
   "execution_count": 658,
   "id": "dd2c42a7",
   "metadata": {},
   "outputs": [],
   "source": [
    "base_final2 = y_pred.join(test['ID'])\n",
    "base = base_final2[['ID','target']]"
   ]
  },
  {
   "cell_type": "code",
   "execution_count": 659,
   "id": "96d530ca",
   "metadata": {},
   "outputs": [
    {
     "data": {
      "text/html": [
       "<div>\n",
       "<style scoped>\n",
       "    .dataframe tbody tr th:only-of-type {\n",
       "        vertical-align: middle;\n",
       "    }\n",
       "\n",
       "    .dataframe tbody tr th {\n",
       "        vertical-align: top;\n",
       "    }\n",
       "\n",
       "    .dataframe thead th {\n",
       "        text-align: right;\n",
       "    }\n",
       "</style>\n",
       "<table border=\"1\" class=\"dataframe\">\n",
       "  <thead>\n",
       "    <tr style=\"text-align: right;\">\n",
       "      <th></th>\n",
       "      <th>ID</th>\n",
       "    </tr>\n",
       "    <tr>\n",
       "      <th>target</th>\n",
       "      <th></th>\n",
       "    </tr>\n",
       "  </thead>\n",
       "  <tbody>\n",
       "    <tr>\n",
       "      <th>1</th>\n",
       "      <td>2768</td>\n",
       "    </tr>\n",
       "    <tr>\n",
       "      <th>2</th>\n",
       "      <td>9243</td>\n",
       "    </tr>\n",
       "    <tr>\n",
       "      <th>3</th>\n",
       "      <td>1591</td>\n",
       "    </tr>\n",
       "    <tr>\n",
       "      <th>4</th>\n",
       "      <td>157</td>\n",
       "    </tr>\n",
       "    <tr>\n",
       "      <th>5</th>\n",
       "      <td>41</td>\n",
       "    </tr>\n",
       "  </tbody>\n",
       "</table>\n",
       "</div>"
      ],
      "text/plain": [
       "          ID\n",
       "target      \n",
       "1       2768\n",
       "2       9243\n",
       "3       1591\n",
       "4        157\n",
       "5         41"
      ]
     },
     "execution_count": 659,
     "metadata": {},
     "output_type": "execute_result"
    }
   ],
   "source": [
    "base.groupby('target').count()"
   ]
  },
  {
   "cell_type": "code",
   "execution_count": 660,
   "id": "f76ba4b2",
   "metadata": {},
   "outputs": [],
   "source": [
    "base.to_csv('submission_tercer_version.csv',index=False)"
   ]
  }
 ],
 "metadata": {
  "kernelspec": {
   "display_name": "Python 3 (ipykernel)",
   "language": "python",
   "name": "python3"
  },
  "language_info": {
   "codemirror_mode": {
    "name": "ipython",
    "version": 3
   },
   "file_extension": ".py",
   "mimetype": "text/x-python",
   "name": "python",
   "nbconvert_exporter": "python",
   "pygments_lexer": "ipython3",
   "version": "3.8.16"
  }
 },
 "nbformat": 4,
 "nbformat_minor": 5
}
